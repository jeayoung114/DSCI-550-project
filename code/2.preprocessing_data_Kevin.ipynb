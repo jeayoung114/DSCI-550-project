{
 "cells": [
  {
   "cell_type": "code",
   "execution_count": 1,
   "metadata": {},
   "outputs": [],
   "source": [
    "import pandas as pd\n",
    "import matplotlib.pyplot as plt\n",
    "import numpy as np"
   ]
  },
  {
   "cell_type": "code",
   "execution_count": 2,
   "metadata": {},
   "outputs": [],
   "source": [
    "la = pd.read_csv(\"../data/dataset_LA.csv\")"
   ]
  },
  {
   "cell_type": "code",
   "execution_count": 3,
   "metadata": {},
   "outputs": [
    {
     "data": {
      "text/html": [
       "<div>\n",
       "<style scoped>\n",
       "    .dataframe tbody tr th:only-of-type {\n",
       "        vertical-align: middle;\n",
       "    }\n",
       "\n",
       "    .dataframe tbody tr th {\n",
       "        vertical-align: top;\n",
       "    }\n",
       "\n",
       "    .dataframe thead th {\n",
       "        text-align: right;\n",
       "    }\n",
       "</style>\n",
       "<table border=\"1\" class=\"dataframe\">\n",
       "  <thead>\n",
       "    <tr style=\"text-align: right;\">\n",
       "      <th></th>\n",
       "      <th>id</th>\n",
       "      <th>listing_url</th>\n",
       "      <th>scrape_id</th>\n",
       "      <th>last_scraped</th>\n",
       "      <th>name</th>\n",
       "      <th>description</th>\n",
       "      <th>neighborhood_overview</th>\n",
       "      <th>picture_url</th>\n",
       "      <th>host_id</th>\n",
       "      <th>host_url</th>\n",
       "      <th>...</th>\n",
       "      <th>review_scores_communication</th>\n",
       "      <th>review_scores_location</th>\n",
       "      <th>review_scores_value</th>\n",
       "      <th>license</th>\n",
       "      <th>instant_bookable</th>\n",
       "      <th>calculated_host_listings_count</th>\n",
       "      <th>calculated_host_listings_count_entire_homes</th>\n",
       "      <th>calculated_host_listings_count_private_rooms</th>\n",
       "      <th>calculated_host_listings_count_shared_rooms</th>\n",
       "      <th>reviews_per_month</th>\n",
       "    </tr>\n",
       "  </thead>\n",
       "  <tbody>\n",
       "    <tr>\n",
       "      <th>0</th>\n",
       "      <td>109</td>\n",
       "      <td>https://www.airbnb.com/rooms/109</td>\n",
       "      <td>20200820033927</td>\n",
       "      <td>2020-08-21</td>\n",
       "      <td>Amazing bright elegant condo park front *UPGRA...</td>\n",
       "      <td>*** Unit upgraded with new bamboo flooring, br...</td>\n",
       "      <td>NaN</td>\n",
       "      <td>https://a0.muscache.com/pictures/4321499/1da98...</td>\n",
       "      <td>521</td>\n",
       "      <td>https://www.airbnb.com/users/show/521</td>\n",
       "      <td>...</td>\n",
       "      <td>8.0</td>\n",
       "      <td>10.0</td>\n",
       "      <td>8.0</td>\n",
       "      <td>NaN</td>\n",
       "      <td>f</td>\n",
       "      <td>1</td>\n",
       "      <td>1</td>\n",
       "      <td>0</td>\n",
       "      <td>0</td>\n",
       "      <td>0.02</td>\n",
       "    </tr>\n",
       "    <tr>\n",
       "      <th>1</th>\n",
       "      <td>344</td>\n",
       "      <td>https://www.airbnb.com/rooms/344</td>\n",
       "      <td>20200820033927</td>\n",
       "      <td>2020-08-22</td>\n",
       "      <td>Family perfect;Pool;Near Studios!</td>\n",
       "      <td>This home is perfect for families; aspiring ch...</td>\n",
       "      <td>Quiet-yet-close to all the fun in LA! Hollywoo...</td>\n",
       "      <td>https://a0.muscache.com/pictures/cc4b724d-db8b...</td>\n",
       "      <td>767</td>\n",
       "      <td>https://www.airbnb.com/users/show/767</td>\n",
       "      <td>...</td>\n",
       "      <td>10.0</td>\n",
       "      <td>10.0</td>\n",
       "      <td>10.0</td>\n",
       "      <td>NaN</td>\n",
       "      <td>f</td>\n",
       "      <td>1</td>\n",
       "      <td>1</td>\n",
       "      <td>0</td>\n",
       "      <td>0</td>\n",
       "      <td>0.16</td>\n",
       "    </tr>\n",
       "    <tr>\n",
       "      <th>2</th>\n",
       "      <td>2708</td>\n",
       "      <td>https://www.airbnb.com/rooms/2708</td>\n",
       "      <td>20200820033927</td>\n",
       "      <td>2020-08-20</td>\n",
       "      <td>Beautiful Furnish Mirrored Mini-Suite w/ Firep...</td>\n",
       "      <td>Beau Furn Mirror Mini-Suite w/ Fireplace 28% o...</td>\n",
       "      <td>We are minutes away from the Mentor Language I...</td>\n",
       "      <td>https://a0.muscache.com/pictures/40618141/2ac0...</td>\n",
       "      <td>3008</td>\n",
       "      <td>https://www.airbnb.com/users/show/3008</td>\n",
       "      <td>...</td>\n",
       "      <td>10.0</td>\n",
       "      <td>10.0</td>\n",
       "      <td>10.0</td>\n",
       "      <td>NaN</td>\n",
       "      <td>t</td>\n",
       "      <td>2</td>\n",
       "      <td>0</td>\n",
       "      <td>2</td>\n",
       "      <td>0</td>\n",
       "      <td>0.34</td>\n",
       "    </tr>\n",
       "    <tr>\n",
       "      <th>3</th>\n",
       "      <td>2732</td>\n",
       "      <td>https://www.airbnb.com/rooms/2732</td>\n",
       "      <td>20200820033927</td>\n",
       "      <td>2020-08-20</td>\n",
       "      <td>Zen Life at the Beach</td>\n",
       "      <td>An oasis of tranquility awaits you.&lt;br /&gt;&lt;br /...</td>\n",
       "      <td>This is the best part of Santa Monica. Quiet, ...</td>\n",
       "      <td>https://a0.muscache.com/pictures/1082974/0f74c...</td>\n",
       "      <td>3041</td>\n",
       "      <td>https://www.airbnb.com/users/show/3041</td>\n",
       "      <td>...</td>\n",
       "      <td>9.0</td>\n",
       "      <td>10.0</td>\n",
       "      <td>9.0</td>\n",
       "      <td>228269</td>\n",
       "      <td>f</td>\n",
       "      <td>2</td>\n",
       "      <td>1</td>\n",
       "      <td>1</td>\n",
       "      <td>0</td>\n",
       "      <td>0.19</td>\n",
       "    </tr>\n",
       "    <tr>\n",
       "      <th>4</th>\n",
       "      <td>2864</td>\n",
       "      <td>https://www.airbnb.com/rooms/2864</td>\n",
       "      <td>20200820033927</td>\n",
       "      <td>2020-08-20</td>\n",
       "      <td>* Beautiful Master Suite/Jacuzzi Tub/*</td>\n",
       "      <td>Centrally located.... Furnished with King Size...</td>\n",
       "      <td>What makes the neighborhood unique is that the...</td>\n",
       "      <td>https://a0.muscache.com/pictures/23817858/de20...</td>\n",
       "      <td>3207</td>\n",
       "      <td>https://www.airbnb.com/users/show/3207</td>\n",
       "      <td>...</td>\n",
       "      <td>NaN</td>\n",
       "      <td>NaN</td>\n",
       "      <td>NaN</td>\n",
       "      <td>NaN</td>\n",
       "      <td>t</td>\n",
       "      <td>1</td>\n",
       "      <td>1</td>\n",
       "      <td>0</td>\n",
       "      <td>0</td>\n",
       "      <td>NaN</td>\n",
       "    </tr>\n",
       "  </tbody>\n",
       "</table>\n",
       "<p>5 rows × 74 columns</p>\n",
       "</div>"
      ],
      "text/plain": [
       "     id                        listing_url       scrape_id last_scraped  \\\n",
       "0   109   https://www.airbnb.com/rooms/109  20200820033927   2020-08-21   \n",
       "1   344   https://www.airbnb.com/rooms/344  20200820033927   2020-08-22   \n",
       "2  2708  https://www.airbnb.com/rooms/2708  20200820033927   2020-08-20   \n",
       "3  2732  https://www.airbnb.com/rooms/2732  20200820033927   2020-08-20   \n",
       "4  2864  https://www.airbnb.com/rooms/2864  20200820033927   2020-08-20   \n",
       "\n",
       "                                                name  \\\n",
       "0  Amazing bright elegant condo park front *UPGRA...   \n",
       "1                  Family perfect;Pool;Near Studios!   \n",
       "2  Beautiful Furnish Mirrored Mini-Suite w/ Firep...   \n",
       "3                              Zen Life at the Beach   \n",
       "4             * Beautiful Master Suite/Jacuzzi Tub/*   \n",
       "\n",
       "                                         description  \\\n",
       "0  *** Unit upgraded with new bamboo flooring, br...   \n",
       "1  This home is perfect for families; aspiring ch...   \n",
       "2  Beau Furn Mirror Mini-Suite w/ Fireplace 28% o...   \n",
       "3  An oasis of tranquility awaits you.<br /><br /...   \n",
       "4  Centrally located.... Furnished with King Size...   \n",
       "\n",
       "                               neighborhood_overview  \\\n",
       "0                                                NaN   \n",
       "1  Quiet-yet-close to all the fun in LA! Hollywoo...   \n",
       "2  We are minutes away from the Mentor Language I...   \n",
       "3  This is the best part of Santa Monica. Quiet, ...   \n",
       "4  What makes the neighborhood unique is that the...   \n",
       "\n",
       "                                         picture_url  host_id  \\\n",
       "0  https://a0.muscache.com/pictures/4321499/1da98...      521   \n",
       "1  https://a0.muscache.com/pictures/cc4b724d-db8b...      767   \n",
       "2  https://a0.muscache.com/pictures/40618141/2ac0...     3008   \n",
       "3  https://a0.muscache.com/pictures/1082974/0f74c...     3041   \n",
       "4  https://a0.muscache.com/pictures/23817858/de20...     3207   \n",
       "\n",
       "                                 host_url  ... review_scores_communication  \\\n",
       "0   https://www.airbnb.com/users/show/521  ...                         8.0   \n",
       "1   https://www.airbnb.com/users/show/767  ...                        10.0   \n",
       "2  https://www.airbnb.com/users/show/3008  ...                        10.0   \n",
       "3  https://www.airbnb.com/users/show/3041  ...                         9.0   \n",
       "4  https://www.airbnb.com/users/show/3207  ...                         NaN   \n",
       "\n",
       "  review_scores_location review_scores_value license instant_bookable  \\\n",
       "0                   10.0                 8.0     NaN                f   \n",
       "1                   10.0                10.0     NaN                f   \n",
       "2                   10.0                10.0     NaN                t   \n",
       "3                   10.0                 9.0  228269                f   \n",
       "4                    NaN                 NaN     NaN                t   \n",
       "\n",
       "  calculated_host_listings_count calculated_host_listings_count_entire_homes  \\\n",
       "0                              1                                           1   \n",
       "1                              1                                           1   \n",
       "2                              2                                           0   \n",
       "3                              2                                           1   \n",
       "4                              1                                           1   \n",
       "\n",
       "  calculated_host_listings_count_private_rooms  \\\n",
       "0                                            0   \n",
       "1                                            0   \n",
       "2                                            2   \n",
       "3                                            1   \n",
       "4                                            0   \n",
       "\n",
       "  calculated_host_listings_count_shared_rooms reviews_per_month  \n",
       "0                                           0              0.02  \n",
       "1                                           0              0.16  \n",
       "2                                           0              0.34  \n",
       "3                                           0              0.19  \n",
       "4                                           0               NaN  \n",
       "\n",
       "[5 rows x 74 columns]"
      ]
     },
     "execution_count": 3,
     "metadata": {},
     "output_type": "execute_result"
    }
   ],
   "source": [
    "la.head()"
   ]
  },
  {
   "cell_type": "code",
   "execution_count": 4,
   "metadata": {
    "scrolled": false
   },
   "outputs": [
    {
     "data": {
      "text/plain": [
       "Index(['id', 'listing_url', 'scrape_id', 'last_scraped', 'name', 'description',\n",
       "       'neighborhood_overview', 'picture_url', 'host_id', 'host_url',\n",
       "       'host_name', 'host_since', 'host_location', 'host_about',\n",
       "       'host_response_time', 'host_response_rate', 'host_acceptance_rate',\n",
       "       'host_is_superhost', 'host_thumbnail_url', 'host_picture_url',\n",
       "       'host_neighbourhood', 'host_listings_count',\n",
       "       'host_total_listings_count', 'host_verifications',\n",
       "       'host_has_profile_pic', 'host_identity_verified', 'neighbourhood',\n",
       "       'neighbourhood_cleansed', 'neighbourhood_group_cleansed', 'latitude',\n",
       "       'longitude', 'property_type', 'room_type', 'accommodates', 'bathrooms',\n",
       "       'bathrooms_text', 'bedrooms', 'beds', 'amenities', 'price',\n",
       "       'minimum_nights', 'maximum_nights', 'minimum_minimum_nights',\n",
       "       'maximum_minimum_nights', 'minimum_maximum_nights',\n",
       "       'maximum_maximum_nights', 'minimum_nights_avg_ntm',\n",
       "       'maximum_nights_avg_ntm', 'calendar_updated', 'has_availability',\n",
       "       'availability_30', 'availability_60', 'availability_90',\n",
       "       'availability_365', 'calendar_last_scraped', 'number_of_reviews',\n",
       "       'number_of_reviews_ltm', 'number_of_reviews_l30d', 'first_review',\n",
       "       'last_review', 'review_scores_rating', 'review_scores_accuracy',\n",
       "       'review_scores_cleanliness', 'review_scores_checkin',\n",
       "       'review_scores_communication', 'review_scores_location',\n",
       "       'review_scores_value', 'license', 'instant_bookable',\n",
       "       'calculated_host_listings_count',\n",
       "       'calculated_host_listings_count_entire_homes',\n",
       "       'calculated_host_listings_count_private_rooms',\n",
       "       'calculated_host_listings_count_shared_rooms', 'reviews_per_month'],\n",
       "      dtype='object')"
      ]
     },
     "execution_count": 4,
     "metadata": {},
     "output_type": "execute_result"
    }
   ],
   "source": [
    "la.columns"
   ]
  },
  {
   "cell_type": "markdown",
   "metadata": {},
   "source": [
    "## Data Cleaning"
   ]
  },
  {
   "cell_type": "markdown",
   "metadata": {},
   "source": [
    "Kevin : host response time, host response rate, host_acceptacne, host neighborhood_cleansed, host neighborhood matches?, property_type, room_type⁣\n",
    "⁣maximum_nights, minimum_nights, number of reviews, number of reviews l30d, last review (count date from now), reviews per month"
   ]
  },
  {
   "cell_type": "markdown",
   "metadata": {},
   "source": [
    "### Host Response Time"
   ]
  },
  {
   "cell_type": "code",
   "execution_count": 5,
   "metadata": {},
   "outputs": [
    {
     "data": {
      "text/plain": [
       "array([nan, 'within a day', 'within an hour', 'within a few hours',\n",
       "       'a few days or more'], dtype=object)"
      ]
     },
     "execution_count": 5,
     "metadata": {},
     "output_type": "execute_result"
    }
   ],
   "source": [
    "la[\"host_response_time\"].unique()"
   ]
  },
  {
   "cell_type": "markdown",
   "metadata": {},
   "source": [
    "nan, 'within a day', 'within an hour', 'within a few hours','a few days or more'"
   ]
  },
  {
   "cell_type": "code",
   "execution_count": 6,
   "metadata": {},
   "outputs": [
    {
     "data": {
      "text/plain": [
       "within an hour        15487\n",
       "within a few hours     4451\n",
       "within a day           2553\n",
       "a few days or more     1229\n",
       "Name: host_response_time, dtype: int64"
      ]
     },
     "execution_count": 6,
     "metadata": {},
     "output_type": "execute_result"
    }
   ],
   "source": [
    "la[\"host_response_time\"].value_counts()"
   ]
  },
  {
   "cell_type": "code",
   "execution_count": 7,
   "metadata": {},
   "outputs": [],
   "source": [
    "na_count = la[la[\"host_response_time\"].isna()].shape[0]"
   ]
  },
  {
   "cell_type": "code",
   "execution_count": 8,
   "metadata": {},
   "outputs": [
    {
     "data": {
      "text/plain": [
       "0.2829070681419675"
      ]
     },
     "execution_count": 8,
     "metadata": {},
     "output_type": "execute_result"
    }
   ],
   "source": [
    "na_count / la.shape[0]"
   ]
  },
  {
   "cell_type": "markdown",
   "metadata": {},
   "source": [
    "9358 rows with NA for host_response_time; 28% of data"
   ]
  },
  {
   "cell_type": "markdown",
   "metadata": {},
   "source": [
    "### Host Response Rate"
   ]
  },
  {
   "cell_type": "code",
   "execution_count": 9,
   "metadata": {},
   "outputs": [
    {
     "data": {
      "text/plain": [
       "array([nan, '70%', '100%', '93%', '86%', '63%', '99%', '54%', '97%',\n",
       "       '43%', '71%', '50%', '90%', '92%', '0%', '80%', '60%', '83%',\n",
       "       '88%', '72%', '94%', '75%', '13%', '89%', '98%', '17%', '40%',\n",
       "       '33%', '96%', '77%', '85%', '91%', '95%', '78%', '25%', '66%',\n",
       "       '84%', '64%', '82%', '67%', '37%', '73%', '87%', '59%', '10%',\n",
       "       '39%', '38%', '30%', '44%', '23%', '48%', '45%', '69%', '47%',\n",
       "       '29%', '57%', '56%', '22%', '20%', '65%', '58%', '31%', '14%',\n",
       "       '79%', '61%', '81%', '11%', '76%', '42%', '62%', '36%', '51%',\n",
       "       '74%', '55%', '68%', '4%', '53%', '46%', '8%'], dtype=object)"
      ]
     },
     "execution_count": 9,
     "metadata": {},
     "output_type": "execute_result"
    }
   ],
   "source": [
    "la[\"host_response_rate\"].unique()"
   ]
  },
  {
   "cell_type": "code",
   "execution_count": 10,
   "metadata": {},
   "outputs": [],
   "source": [
    "na_count = la[la[\"host_response_rate\"].isna()].shape[0]"
   ]
  },
  {
   "cell_type": "code",
   "execution_count": 11,
   "metadata": {},
   "outputs": [
    {
     "data": {
      "text/plain": [
       "0.2829070681419675"
      ]
     },
     "execution_count": 11,
     "metadata": {},
     "output_type": "execute_result"
    }
   ],
   "source": [
    "na_count / la.shape[0]"
   ]
  },
  {
   "cell_type": "markdown",
   "metadata": {},
   "source": [
    "9358 rows with NA for host_response_rate; 28% of data"
   ]
  },
  {
   "cell_type": "code",
   "execution_count": 12,
   "metadata": {},
   "outputs": [],
   "source": [
    "la[\"host_response_rate\"] = la[\"host_response_rate\"].str.replace(\"%\", \"\").astype(float)"
   ]
  },
  {
   "cell_type": "code",
   "execution_count": 13,
   "metadata": {},
   "outputs": [],
   "source": [
    "la[\"host_response_rate\"] = la[\"host_response_rate\"] / 100"
   ]
  },
  {
   "cell_type": "code",
   "execution_count": 14,
   "metadata": {},
   "outputs": [
    {
     "data": {
      "text/plain": [
       "0         NaN\n",
       "1        0.70\n",
       "2        1.00\n",
       "3        0.93\n",
       "4         NaN\n",
       "         ... \n",
       "33073     NaN\n",
       "33074    1.00\n",
       "33075    1.00\n",
       "33076     NaN\n",
       "33077    1.00\n",
       "Name: host_response_rate, Length: 33078, dtype: float64"
      ]
     },
     "execution_count": 14,
     "metadata": {},
     "output_type": "execute_result"
    }
   ],
   "source": [
    "la[\"host_response_rate\"]"
   ]
  },
  {
   "cell_type": "markdown",
   "metadata": {},
   "source": [
    "### Host Acceptance Rate"
   ]
  },
  {
   "cell_type": "code",
   "execution_count": 15,
   "metadata": {},
   "outputs": [
    {
     "data": {
      "text/plain": [
       "array(['0%', '36%', '100%', '57%', nan, '95%', '93%', '99%', '84%', '98%',\n",
       "       '47%', '75%', '74%', '83%', '82%', '91%', '24%', '97%', '86%',\n",
       "       '70%', '25%', '62%', '50%', '33%', '96%', '71%', '89%', '13%',\n",
       "       '44%', '85%', '90%', '58%', '30%', '65%', '54%', '63%', '73%',\n",
       "       '78%', '67%', '68%', '79%', '94%', '60%', '29%', '43%', '46%',\n",
       "       '55%', '10%', '80%', '56%', '92%', '40%', '87%', '14%', '11%',\n",
       "       '18%', '59%', '76%', '81%', '16%', '77%', '38%', '52%', '27%',\n",
       "       '64%', '9%', '66%', '88%', '8%', '69%', '72%', '49%', '32%', '20%',\n",
       "       '17%', '22%', '15%', '53%', '39%', '61%', '19%', '23%', '48%',\n",
       "       '45%', '26%', '21%', '41%', '12%', '2%', '51%', '42%', '35%',\n",
       "       '31%', '7%', '37%', '5%', '28%', '6%', '3%', '34%'], dtype=object)"
      ]
     },
     "execution_count": 15,
     "metadata": {},
     "output_type": "execute_result"
    }
   ],
   "source": [
    "la[\"host_acceptance_rate\"].unique()"
   ]
  },
  {
   "cell_type": "code",
   "execution_count": 16,
   "metadata": {},
   "outputs": [
    {
     "data": {
      "text/plain": [
       "6727"
      ]
     },
     "execution_count": 16,
     "metadata": {},
     "output_type": "execute_result"
    }
   ],
   "source": [
    "na_count = la[la[\"host_acceptance_rate\"].isna()].shape[0]\n",
    "na_count"
   ]
  },
  {
   "cell_type": "code",
   "execution_count": 17,
   "metadata": {},
   "outputs": [
    {
     "data": {
      "text/plain": [
       "0.20336779732752888"
      ]
     },
     "execution_count": 17,
     "metadata": {},
     "output_type": "execute_result"
    }
   ],
   "source": [
    "na_count / la.shape[0]"
   ]
  },
  {
   "cell_type": "markdown",
   "metadata": {},
   "source": [
    "6727 rows with NA for host_acceptance_rate; 20% of data"
   ]
  },
  {
   "cell_type": "code",
   "execution_count": 18,
   "metadata": {},
   "outputs": [],
   "source": [
    "la[\"host_acceptance_rate\"] = la[\"host_acceptance_rate\"].str.replace(\"%\", \"\").astype(float)"
   ]
  },
  {
   "cell_type": "code",
   "execution_count": 19,
   "metadata": {},
   "outputs": [],
   "source": [
    "la[\"host_acceptance_rate\"] = la[\"host_acceptance_rate\"] / 100"
   ]
  },
  {
   "cell_type": "code",
   "execution_count": 20,
   "metadata": {},
   "outputs": [
    {
     "data": {
      "text/plain": [
       "0        0.00\n",
       "1        0.36\n",
       "2        1.00\n",
       "3        0.57\n",
       "4         NaN\n",
       "         ... \n",
       "33073     NaN\n",
       "33074    0.93\n",
       "33075    1.00\n",
       "33076     NaN\n",
       "33077    0.98\n",
       "Name: host_acceptance_rate, Length: 33078, dtype: float64"
      ]
     },
     "execution_count": 20,
     "metadata": {},
     "output_type": "execute_result"
    }
   ],
   "source": [
    "la[\"host_acceptance_rate\"]"
   ]
  },
  {
   "cell_type": "markdown",
   "metadata": {},
   "source": [
    "### Neighbourhood Cleansed"
   ]
  },
  {
   "cell_type": "code",
   "execution_count": 21,
   "metadata": {},
   "outputs": [
    {
     "data": {
      "text/plain": [
       "Venice                       1701\n",
       "Hollywood                    1616\n",
       "Long Beach                   1573\n",
       "Santa Monica                 1184\n",
       "Downtown                     1072\n",
       "                             ... \n",
       "Hawaiian Gardens                1\n",
       "Northwest Antelope Valley       1\n",
       "Ridge Route                     1\n",
       "South Diamond Bar               1\n",
       "Lake Hughes                     1\n",
       "Name: neighbourhood_cleansed, Length: 264, dtype: int64"
      ]
     },
     "execution_count": 21,
     "metadata": {},
     "output_type": "execute_result"
    }
   ],
   "source": [
    "la[\"neighbourhood_cleansed\"].value_counts()"
   ]
  },
  {
   "cell_type": "code",
   "execution_count": 22,
   "metadata": {},
   "outputs": [
    {
     "data": {
      "text/plain": [
       "264"
      ]
     },
     "execution_count": 22,
     "metadata": {},
     "output_type": "execute_result"
    }
   ],
   "source": [
    "len(la[\"neighbourhood_cleansed\"].unique())"
   ]
  },
  {
   "cell_type": "markdown",
   "metadata": {},
   "source": [
    "### Host Neighbourhood match Neighborhood Cleansed"
   ]
  },
  {
   "cell_type": "code",
   "execution_count": 23,
   "metadata": {},
   "outputs": [
    {
     "data": {
      "text/plain": [
       "array(['Culver City', 'Burbank', 'Hollywood', 'Santa Monica',\n",
       "       'Bellflower', 'Del Rey', 'Woodland Hills/Warner Center',\n",
       "       'Atwater Village', 'Venice', 'Long Beach', 'Redondo Beach',\n",
       "       'Mid-Wilshire', 'Hollywood Hills', 'Torrance', 'Mid-City',\n",
       "       'Valley Village', 'Silver Lake', 'Glendale', 'Highland Park',\n",
       "       'Mount Washington', 'West Los Angeles', 'Westside', 'Los Feliz',\n",
       "       'Tarzana', 'Mar Vista', 'Malibu', 'Laurel Canyon',\n",
       "       'South Robertson', nan, 'Van Nuys', 'Glassell Park', 'Lynwood',\n",
       "       'Granada Hills North', 'Beverly Hills', 'Echo Park', 'Brentwood',\n",
       "       'West Hollywood', 'Encino', 'Cerritos', 'South LA',\n",
       "       'North Hills East', 'Sunland/Tujunga', 'Westchester/Playa Del Rey',\n",
       "       'Westlake', 'Carson', 'North Hollywood', 'Altadena',\n",
       "       'Pacific Palisades', 'Topanga', 'Valley Glen', 'Manhattan Beach',\n",
       "       'Studio City', 'Marina Del Rey', 'Palms', 'Cahuenga Pass',\n",
       "       'Sun Valley', 'Lakewood', 'San Pedro', 'Downtown Toronto',\n",
       "       'Bel Air/Beverly Crest', 'Pasadena', 'Hermosa Beach',\n",
       "       'Baldwin Hills', 'West Rancho Dominguez', 'Lake Balboa',\n",
       "       'East Hollywood', 'El Segundo', 'Inglewood', 'Sherman Oaks',\n",
       "       'Arts District', 'Covina', 'South Pasadena', 'Downtown',\n",
       "       'Toluca Lake', 'La Canada Flintridge', 'Kailua/Kona',\n",
       "       'Canoga Park', 'Eagle Rock', 'Central LA', 'Lincoln Heights',\n",
       "       'Alhambra', 'Baldwin Park', 'Montebello', 'Monrovia',\n",
       "       'Rolling Hills Estates', 'Winnetka', 'Panorama City',\n",
       "       'San Gabriel', 'Lomita', 'Reseda', 'Harbor City', 'Alphabet City',\n",
       "       'Westwood', 'East Village', 'La Mirada', 'Rancho Palos Verdes',\n",
       "       'Monterey Hills', 'Hawthorne', 'Northridge', 'Signal Hill',\n",
       "       'Skid Row', 'River West', 'Midtown East', 'Palermo', 'El Sereno',\n",
       "       'Harbor Gateway', 'Montecito Heights', 'West Adams', 'Arcadia',\n",
       "       'East San Gabriel', 'Gardena', 'Boyle Heights', 'Antibes',\n",
       "       'Downey', 'East Los Angeles', 'Pico Rivera', 'Island of Hawaiʻi',\n",
       "       'Kungsholmen', 'El Monte', 'Elysian Valley', 'Sylmar',\n",
       "       'Monterey Park', 'West Athens', 'West Hills', 'Molokaʻi', 'Hermon',\n",
       "       'Sierra Madre', 'Bell', 'Lower East Side', 'Azusa',\n",
       "       'Greenwich Village', 'Lawndale', 'Palos Verdes',\n",
       "       'La Crescenta-Montrose', 'Chatsworth', 'Compton', 'Alondra Park',\n",
       "       'Temple City', 'Kihei/Wailea', 'Westmont', 'North Hills West',\n",
       "       'Glendora', 'South Los Angeles', 'Whittier', 'Garden Grove',\n",
       "       \"Ko'olauloa\", 'Pankow', 'Arleta', 'South Gate', 'Newport Beach',\n",
       "       'Pacific Beach', 'Florence-Graham', 'Pacoima', 'South San Gabriel',\n",
       "       'Logan Circle', 'Mid City', 'La Puente', 'Paramount',\n",
       "       'Belmont Heights', 'Mission Hills', 'Woodland Hills',\n",
       "       'Hamilton Heights', 'Westchester', 'San Marino', 'Century City',\n",
       "       'Irvine', 'Cypress Park', 'Port Melbourne', 'Fullerton',\n",
       "       'Waianae Coast', 'Huntington Park', 'Curtis', 'Huntington Beach',\n",
       "       'Ridgewood', 'Pacific Heights', 'Maui', 'Wilmington', 'Greenpoint',\n",
       "       'Rosemead', 'Champs-Elysées', 'Bell Gardens', 'Edgewater',\n",
       "       'Irwindale', 'Jaffa', 'Santa Fe Springs', 'West Covina', 'Treme',\n",
       "       'Porter Ranch', 'Loop', 'Upper East Side', 'Norwalk',\n",
       "       'Williamsburg', 'Lenox', 'Duarte', 'Rolling Hills',\n",
       "       'West Puente Valley', 'Daly City', 'Catalina Villas', 'Watts',\n",
       "       'Santa Cruz', 'Bay Ridge', 'Napili/Honokowai',\n",
       "       'Downtown Los Angeles', 'Willowbrook', 'Playa Vista',\n",
       "       'Madison Heights', 'Fenway/Kenmore', 'Lake Sherwood', 'Corktown',\n",
       "       'Bondi', 'South Whittier', 'Park Slope', 'Anaheim', 'La Jolla',\n",
       "       'Eastvale Downs', 'Belmont Shore', 'Washington Heights',\n",
       "       'Walnut Valley', 'El Rancho', 'Richmond', 'South Lake Tahoe',\n",
       "       'Bushwick', 'Waikiki', 'Core-Columbia', 'Cambridge',\n",
       "       'Saint Lawrence', 'Mission Beach', 'Upper West Side', 'Špinut',\n",
       "       'Tzafon Yashan', 'West Whittier', 'North Miami', 'Bloomingdale',\n",
       "       'Downtown Palm Springs', 'Los Altos', 'Condesa', 'Charter Oak',\n",
       "       'West Vancouver', 'Astoria', 'Mount Vernon Square',\n",
       "       'Battery Park City', 'Truckee', 'Baychester',\n",
       "       'Mission Valley West', 'Mira Mesa', 'Hilo', 'Tustin', 'Kaanapali',\n",
       "       'Inwood', 'Canyon Country', 'Vernon', 'Chelsea', 'Brookline',\n",
       "       'Financial District', 'Crown Heights', 'Palmerston/Little Italy',\n",
       "       'Buena Park', 'Judiciary Square', 'Noho', 'Bethesda, MD',\n",
       "       'Parkside', 'Wallace Emerson', 'Saint-Germain-des-Prés - Odéon',\n",
       "       'Sunny Isles Beach', 'Artesia', 'Potrero Hill', 'South El Monte',\n",
       "       'Rittenhouse Square', 'São Paulo', 'Soho', 'Carlton', 'Maywood',\n",
       "       'San Juan Capistrano', 'Lower Queen Anne', 'West Hollywood West',\n",
       "       'Wilshire Montana', 'Central City', 'Park West', 'La Palma',\n",
       "       'Commerce', 'Bal Harbour', 'Kips Bay', 'Dana Point', 'Lakeview',\n",
       "       'Laguna Beach', 'Kauaʻi', 'Los Cerritos', 'Mission District',\n",
       "       'South Beach', 'Kfar Shalem', 'Shichahai', 'Shasta-Hanchett Park',\n",
       "       'Adams Point', 'Toluca Terrace', 'Midtown', 'North Shore', 'Trona',\n",
       "       \"Hell's Kitchen\", 'Mattapan', 'Münchner Freiheit',\n",
       "       'Schwabing - West', 'Lower Streatham', 'Playa del Rey',\n",
       "       'Pacific - Edison', 'Rose Park South', 'National Hills',\n",
       "       'Cerqueira César', 'Mayfair', 'Wilshire Center - Koreatown',\n",
       "       'Central Business District', 'Doctores', 'Lefferts Garden',\n",
       "       'Downtown Riverside', 'West Berkeley/Ocean View', 'Ocean Park',\n",
       "       'Northeast Los Angeles', 'Peninsula', 'Orange', 'Koreatown',\n",
       "       'Mira Loma', 'Western Malibu', 'Oakwood', 'Hawaiian Gardens',\n",
       "       'Chacarita', 'Lisson Grove', 'Bayview', 'North Hills',\n",
       "       'Lake Highlands', 'Redwood City', 'Wilmersdorf', 'Pico',\n",
       "       'Southwest Houston', 'Harvey Park', 'Santa Clara', 'Queen Anne',\n",
       "       'Bel Air', 'Michigan Park', 'Sunnyside', 'Southeast Washington',\n",
       "       'Alamitos Beach', 'Pike Place Market', 'Sheepshead Bay', 'Putuo',\n",
       "       'Belmont', 'Nanjing Road West', 'SoMa', 'Fairfax',\n",
       "       'Anaheim Resort', 'Elmhurst', 'Mission - Foothill', 'Santa Ana',\n",
       "       'Lucerne - Higuera', 'Tujunga', 'Val Vista Classic', 'Belltown',\n",
       "       'Palo del Amo', 'Melrose', 'North of Montana', 'Cambodia Town',\n",
       "       'Miami Beach', 'Campanil', 'Woodbury', 'Cordova Gardens',\n",
       "       'Riverside Rancho', 'Arlington', 'Fox Hills', 'Plaza',\n",
       "       'Washington Square West', 'Bixby Knolls', 'Bluff Heights',\n",
       "       'McManus', 'Lake View Terrace', 'Sunset Park', 'Sorrento Valley',\n",
       "       'Garvey', 'Eastern Malibu', 'Bluff Park', 'South Montebello',\n",
       "       'Southeast Torrance', 'Verdugo Viejo', 'Pueblo', 'North Arroyo',\n",
       "       'Crescenta Highlands', 'Mariposa', 'Western Addition',\n",
       "       'Scripps Ranch', 'Sparr Heights', 'McLaughlin', 'Libération',\n",
       "       'Pico - Robertson', 'Citrus Grove', 'Vineyard', 'South Redondo',\n",
       "       'California Heights', 'North Alamitos Beach', 'Grandview',\n",
       "       'East Whitter', 'Eastside', 'Valencia', 'Waterfront',\n",
       "       'Granada Hills', 'Ala Moana', 'The Annex', 'Ontario Ranch',\n",
       "       'Wilshire Center', 'Sunrise', 'Sunset Strip', 'El Porto',\n",
       "       'North Redondo', 'Old Lakewood City', 'Tri-West', 'Lamanda Park',\n",
       "       'West Gateway', 'Malaga Cove', 'West Valley', 'Southbank',\n",
       "       'Downtown Seattle', 'North Central', 'Central Fort Lauderdale',\n",
       "       'Blythewood', 'Verdugo Woodlands', 'Mid-Beach', 'Gateway District',\n",
       "       'Riviera', 'Windsor Hills', 'West Village', 'Adams Hill',\n",
       "       'Beverly Glen', 'Moorlands', 'Pinnacle Point', 'Greater Mulwood',\n",
       "       'Hastings Ranch', 'Sunkist Park', 'North Long Beach', 'Yorkville',\n",
       "       'The Flats', 'Willmore', 'Spaulding Square', 'Traffic Circle Area',\n",
       "       'Blandtown', 'Central Malibu', 'Lincoln', 'Villa San Pedro',\n",
       "       'Magnolia Park', 'Old Town Torrance', 'Brickell', 'Sunset Beach',\n",
       "       'Moorpark', 'Home Park', 'Side Creek', 'Montrose',\n",
       "       'Changfeng Park', 'Walteria', 'Oak Park', 'Westover', 'Hillcrest',\n",
       "       'South Arroyo', 'San Clemente', 'Harbor Gateway North', 'Harbor',\n",
       "       'Mandeville Canyon', 'Blanco - Culver Crest', 'Upper Westside',\n",
       "       'Sawtelle', 'West Torrance', 'Lakewood Mutual', 'Fernwood',\n",
       "       'Calabasas Hills', 'Washington Square'], dtype=object)"
      ]
     },
     "execution_count": 23,
     "metadata": {},
     "output_type": "execute_result"
    }
   ],
   "source": [
    "la[\"host_neighbourhood\"].unique()"
   ]
  },
  {
   "cell_type": "code",
   "execution_count": 24,
   "metadata": {},
   "outputs": [],
   "source": [
    "la[\"neighborhood_matched\"] = la[\"host_neighbourhood\"] == la[\"neighbourhood_cleansed\"]"
   ]
  },
  {
   "cell_type": "code",
   "execution_count": 25,
   "metadata": {},
   "outputs": [
    {
     "data": {
      "text/plain": [
       "16493"
      ]
     },
     "execution_count": 25,
     "metadata": {},
     "output_type": "execute_result"
    }
   ],
   "source": [
    "la[la[\"neighborhood_matched\"] == True].shape[0]"
   ]
  },
  {
   "cell_type": "code",
   "execution_count": 26,
   "metadata": {},
   "outputs": [
    {
     "data": {
      "text/plain": [
       "16585"
      ]
     },
     "execution_count": 26,
     "metadata": {},
     "output_type": "execute_result"
    }
   ],
   "source": [
    "la[la[\"neighborhood_matched\"] == False].shape[0]"
   ]
  },
  {
   "cell_type": "markdown",
   "metadata": {},
   "source": [
    "### Property Type"
   ]
  },
  {
   "cell_type": "code",
   "execution_count": 27,
   "metadata": {},
   "outputs": [
    {
     "data": {
      "text/plain": [
       "array(['Entire condominium', 'Entire house', 'Private room in apartment',\n",
       "       'Entire apartment', 'Private room in tiny house',\n",
       "       'Private room in guesthouse', 'Entire bungalow',\n",
       "       'Private room in house', 'Entire guesthouse',\n",
       "       'Private room in loft', 'Entire guest suite',\n",
       "       'Private room in townhouse', 'Private room in island',\n",
       "       'Entire townhouse', 'Private room in bed and breakfast',\n",
       "       'Private room in hostel', 'Room in hotel',\n",
       "       'Private room in bungalow', 'Entire villa', 'Entire cottage',\n",
       "       'Entire cabin', 'Private room in villa',\n",
       "       'Private room in farm stay', 'Entire loft', 'Shared room in house',\n",
       "       'Shared room in hostel', 'Shared room in villa', 'Camper/RV',\n",
       "       'Farm stay', 'Private room in condominium',\n",
       "       'Private room in guest suite', 'Entire place',\n",
       "       'Room in aparthotel', 'Private room in treehouse', 'Treehouse',\n",
       "       'Shared room in apartment', 'Private room',\n",
       "       'Private room in castle', 'Barn', 'Yurt', 'Boat', 'Tiny house',\n",
       "       'Dome house', 'Room in boutique hotel',\n",
       "       'Shared room in condominium', 'Entire serviced apartment',\n",
       "       'Private room in cottage', 'Private room in cabin', 'Tipi',\n",
       "       'Campsite', 'Private room in tent',\n",
       "       'Shared room in bed and breakfast', 'Shared room in guest suite',\n",
       "       'Private room in chalet', 'Earth house',\n",
       "       'Shared room in townhouse', 'Shared room in bungalow',\n",
       "       'Private room in earth house', 'Room in hostel', 'Castle',\n",
       "       'Private room in resort', 'Entire floor', 'Shared room',\n",
       "       'Private room in yurt', 'Shared room in cabin',\n",
       "       'Shared room in aparthotel', 'Private room in camper/rv',\n",
       "       'Room in serviced apartment', 'Train', 'Entire home/apt',\n",
       "       'Entire chalet', 'Private room in boat', 'Tent',\n",
       "       'Shared room in loft', 'Shared room in earth house',\n",
       "       'Shared room in guesthouse', 'Room in bed and breakfast',\n",
       "       'Private room in serviced apartment',\n",
       "       'Private room in minsu (taiwan)', 'Shared room in dorm', 'Bus',\n",
       "       'Private room in tipi', 'Shared room in dome house',\n",
       "       'Shared room in igloo', 'Private room in dome house',\n",
       "       'Private room in barn', 'Shared room in cottage', 'Cave',\n",
       "       'Entire resort', 'Private room in casa particular (cuba)',\n",
       "       'Shared room in tent', 'Lighthouse', 'Entire vacation home',\n",
       "       'Private room in hut', 'Shared room in boat',\n",
       "       'Shared room in boutique hotel', 'Shared room in tiny house',\n",
       "       'Hut', 'Private room in cave', 'Shared room in camper/rv',\n",
       "       'Shared room in serviced apartment', 'Shared room in farm stay',\n",
       "       'Houseboat', 'Private room in houseboat'], dtype=object)"
      ]
     },
     "execution_count": 27,
     "metadata": {},
     "output_type": "execute_result"
    }
   ],
   "source": [
    "la[\"property_type\"].unique()"
   ]
  },
  {
   "cell_type": "markdown",
   "metadata": {},
   "source": [
    "### Room Type"
   ]
  },
  {
   "cell_type": "code",
   "execution_count": 28,
   "metadata": {},
   "outputs": [
    {
     "data": {
      "text/plain": [
       "array(['Entire home/apt', 'Private room', 'Shared room', 'Hotel room'],\n",
       "      dtype=object)"
      ]
     },
     "execution_count": 28,
     "metadata": {},
     "output_type": "execute_result"
    }
   ],
   "source": [
    "la[\"room_type\"].unique()"
   ]
  },
  {
   "cell_type": "code",
   "execution_count": 29,
   "metadata": {},
   "outputs": [
    {
     "data": {
      "text/plain": [
       "0"
      ]
     },
     "execution_count": 29,
     "metadata": {},
     "output_type": "execute_result"
    }
   ],
   "source": [
    "na_count = la[la[\"room_type\"].isna()].shape[0]\n",
    "na_count"
   ]
  },
  {
   "cell_type": "code",
   "execution_count": 30,
   "metadata": {},
   "outputs": [
    {
     "data": {
      "text/plain": [
       "Entire home/apt    20989\n",
       "Private room       10769\n",
       "Shared room         1163\n",
       "Hotel room           157\n",
       "Name: room_type, dtype: int64"
      ]
     },
     "execution_count": 30,
     "metadata": {},
     "output_type": "execute_result"
    }
   ],
   "source": [
    "la[\"room_type\"].value_counts()"
   ]
  },
  {
   "cell_type": "markdown",
   "metadata": {},
   "source": [
    "### Maximum Nights"
   ]
  },
  {
   "cell_type": "code",
   "execution_count": 31,
   "metadata": {},
   "outputs": [
    {
     "data": {
      "text/plain": [
       "266"
      ]
     },
     "execution_count": 31,
     "metadata": {},
     "output_type": "execute_result"
    }
   ],
   "source": [
    "la[\"maximum_nights\"].unique().shape[0]"
   ]
  },
  {
   "cell_type": "code",
   "execution_count": 32,
   "metadata": {},
   "outputs": [
    {
     "data": {
      "text/plain": [
       "0"
      ]
     },
     "execution_count": 32,
     "metadata": {},
     "output_type": "execute_result"
    }
   ],
   "source": [
    "na_count = la[la[\"maximum_nights\"].isna()].shape[0]\n",
    "na_count"
   ]
  },
  {
   "cell_type": "code",
   "execution_count": 33,
   "metadata": {},
   "outputs": [
    {
     "data": {
      "text/plain": [
       "1125    17037\n",
       "30       2056\n",
       "365      1740\n",
       "90       1414\n",
       "28       1051\n",
       "        ...  \n",
       "371         1\n",
       "2500        1\n",
       "275         1\n",
       "51          1\n",
       "991         1\n",
       "Name: maximum_nights, Length: 266, dtype: int64"
      ]
     },
     "execution_count": 33,
     "metadata": {},
     "output_type": "execute_result"
    }
   ],
   "source": [
    "la[\"maximum_nights\"].value_counts()"
   ]
  },
  {
   "cell_type": "code",
   "execution_count": 34,
   "metadata": {},
   "outputs": [
    {
     "data": {
      "text/plain": [
       "10000"
      ]
     },
     "execution_count": 34,
     "metadata": {},
     "output_type": "execute_result"
    }
   ],
   "source": [
    "max(la[\"maximum_nights\"])"
   ]
  },
  {
   "cell_type": "code",
   "execution_count": 35,
   "metadata": {},
   "outputs": [
    {
     "data": {
      "text/plain": [
       "1"
      ]
     },
     "execution_count": 35,
     "metadata": {},
     "output_type": "execute_result"
    }
   ],
   "source": [
    "min(la[\"maximum_nights\"])"
   ]
  },
  {
   "cell_type": "code",
   "execution_count": 36,
   "metadata": {},
   "outputs": [
    {
     "data": {
      "text/plain": [
       "(array([1.5710e+04, 1.7359e+04, 5.0000e+00, 2.0000e+00, 0.0000e+00,\n",
       "        0.0000e+00, 0.0000e+00, 0.0000e+00, 0.0000e+00, 2.0000e+00]),\n",
       " array([1.0000e+00, 1.0009e+03, 2.0008e+03, 3.0007e+03, 4.0006e+03,\n",
       "        5.0005e+03, 6.0004e+03, 7.0003e+03, 8.0002e+03, 9.0001e+03,\n",
       "        1.0000e+04]),\n",
       " <a list of 10 Patch objects>)"
      ]
     },
     "execution_count": 36,
     "metadata": {},
     "output_type": "execute_result"
    },
    {
     "data": {
      "image/png": "[encoded data removed]",
      "text/plain": [
       "<Figure size 432x288 with 1 Axes>"
      ]
     },
     "metadata": {
      "needs_background": "light"
     },
     "output_type": "display_data"
    }
   ],
   "source": [
    "plt.hist(la[\"maximum_nights\"])"
   ]
  },
  {
   "cell_type": "markdown",
   "metadata": {},
   "source": [
    "### Minimum Nights"
   ]
  },
  {
   "cell_type": "code",
   "execution_count": 37,
   "metadata": {},
   "outputs": [
    {
     "data": {
      "text/plain": [
       "97"
      ]
     },
     "execution_count": 37,
     "metadata": {},
     "output_type": "execute_result"
    }
   ],
   "source": [
    "la[\"minimum_nights\"].unique().shape[0]"
   ]
  },
  {
   "cell_type": "code",
   "execution_count": 38,
   "metadata": {},
   "outputs": [
    {
     "data": {
      "text/plain": [
       "0"
      ]
     },
     "execution_count": 38,
     "metadata": {},
     "output_type": "execute_result"
    }
   ],
   "source": [
    "na_count = la[la[\"minimum_nights\"].isna()].shape[0]\n",
    "na_count"
   ]
  },
  {
   "cell_type": "code",
   "execution_count": 39,
   "metadata": {},
   "outputs": [
    {
     "data": {
      "text/plain": [
       "1      8549\n",
       "30     7974\n",
       "2      6162\n",
       "3      3469\n",
       "31     2023\n",
       "       ... \n",
       "113       1\n",
       "122       1\n",
       "730       1\n",
       "70        1\n",
       "63        1\n",
       "Name: minimum_nights, Length: 97, dtype: int64"
      ]
     },
     "execution_count": 39,
     "metadata": {},
     "output_type": "execute_result"
    }
   ],
   "source": [
    "la[\"minimum_nights\"].value_counts()"
   ]
  },
  {
   "cell_type": "code",
   "execution_count": 40,
   "metadata": {},
   "outputs": [
    {
     "data": {
      "text/plain": [
       "1125"
      ]
     },
     "execution_count": 40,
     "metadata": {},
     "output_type": "execute_result"
    }
   ],
   "source": [
    "max(la[\"minimum_nights\"])"
   ]
  },
  {
   "cell_type": "code",
   "execution_count": 41,
   "metadata": {},
   "outputs": [
    {
     "data": {
      "text/plain": [
       "1"
      ]
     },
     "execution_count": 41,
     "metadata": {},
     "output_type": "execute_result"
    }
   ],
   "source": [
    "min(la[\"minimum_nights\"])"
   ]
  },
  {
   "cell_type": "markdown",
   "metadata": {},
   "source": [
    "### Number of Reviews"
   ]
  },
  {
   "cell_type": "code",
   "execution_count": 42,
   "metadata": {},
   "outputs": [
    {
     "data": {
      "text/plain": [
       "0      7118\n",
       "1      2814\n",
       "2      1798\n",
       "3      1342\n",
       "4      1069\n",
       "       ... \n",
       "519       1\n",
       "324       1\n",
       "388       1\n",
       "420       1\n",
       "543       1\n",
       "Name: number_of_reviews, Length: 491, dtype: int64"
      ]
     },
     "execution_count": 42,
     "metadata": {},
     "output_type": "execute_result"
    }
   ],
   "source": [
    "la[\"number_of_reviews\"].value_counts()"
   ]
  },
  {
   "cell_type": "markdown",
   "metadata": {},
   "source": [
    "7118 has 0 reviews"
   ]
  },
  {
   "cell_type": "markdown",
   "metadata": {},
   "source": [
    "### Number of Reviews Last 30 days"
   ]
  },
  {
   "cell_type": "code",
   "execution_count": 43,
   "metadata": {},
   "outputs": [
    {
     "data": {
      "text/plain": [
       "array([ 0,  1,  2,  6,  9,  3,  5,  8,  4,  7, 16, 11, 10, 14, 12, 15, 13,\n",
       "       22, 18, 25])"
      ]
     },
     "execution_count": 43,
     "metadata": {},
     "output_type": "execute_result"
    }
   ],
   "source": [
    "la[\"number_of_reviews_l30d\"].unique()"
   ]
  },
  {
   "cell_type": "code",
   "execution_count": 44,
   "metadata": {},
   "outputs": [
    {
     "data": {
      "text/plain": [
       "0     25720\n",
       "1      3088\n",
       "2      1461\n",
       "3      1003\n",
       "4       707\n",
       "5       408\n",
       "6       248\n",
       "7       172\n",
       "8       104\n",
       "9        58\n",
       "10       42\n",
       "11       25\n",
       "12       17\n",
       "14        8\n",
       "15        7\n",
       "13        5\n",
       "18        2\n",
       "22        1\n",
       "16        1\n",
       "25        1\n",
       "Name: number_of_reviews_l30d, dtype: int64"
      ]
     },
     "execution_count": 44,
     "metadata": {},
     "output_type": "execute_result"
    }
   ],
   "source": [
    "la[\"number_of_reviews_l30d\"].value_counts()"
   ]
  },
  {
   "cell_type": "markdown",
   "metadata": {},
   "source": [
    "25720 has 0 reviews last 30 days"
   ]
  },
  {
   "cell_type": "code",
   "execution_count": 45,
   "metadata": {},
   "outputs": [],
   "source": [
    "data = la[[\"host_response_time\", \"host_response_rate\", \"host_acceptance_rate\", \"neighbourhood_cleansed\", \"neighborhood_matched\", \"property_type\", \"room_type\", \"maximum_nights\", \"minimum_nights\", \"number_of_reviews\",\"number_of_reviews_l30d\"]]  "
   ]
  },
  {
   "cell_type": "code",
   "execution_count": 46,
   "metadata": {},
   "outputs": [
    {
     "data": {
      "text/html": [
       "<div>\n",
       "<style scoped>\n",
       "    .dataframe tbody tr th:only-of-type {\n",
       "        vertical-align: middle;\n",
       "    }\n",
       "\n",
       "    .dataframe tbody tr th {\n",
       "        vertical-align: top;\n",
       "    }\n",
       "\n",
       "    .dataframe thead th {\n",
       "        text-align: right;\n",
       "    }\n",
       "</style>\n",
       "<table border=\"1\" class=\"dataframe\">\n",
       "  <thead>\n",
       "    <tr style=\"text-align: right;\">\n",
       "      <th></th>\n",
       "      <th>host_response_time</th>\n",
       "      <th>host_response_rate</th>\n",
       "      <th>host_acceptance_rate</th>\n",
       "      <th>neighbourhood_cleansed</th>\n",
       "      <th>neighborhood_matched</th>\n",
       "      <th>property_type</th>\n",
       "      <th>room_type</th>\n",
       "      <th>maximum_nights</th>\n",
       "      <th>minimum_nights</th>\n",
       "      <th>number_of_reviews</th>\n",
       "      <th>number_of_reviews_l30d</th>\n",
       "    </tr>\n",
       "  </thead>\n",
       "  <tbody>\n",
       "    <tr>\n",
       "      <th>0</th>\n",
       "      <td>NaN</td>\n",
       "      <td>NaN</td>\n",
       "      <td>0.00</td>\n",
       "      <td>Culver City</td>\n",
       "      <td>True</td>\n",
       "      <td>Entire condominium</td>\n",
       "      <td>Entire home/apt</td>\n",
       "      <td>730</td>\n",
       "      <td>30</td>\n",
       "      <td>2</td>\n",
       "      <td>0</td>\n",
       "    </tr>\n",
       "    <tr>\n",
       "      <th>1</th>\n",
       "      <td>within a day</td>\n",
       "      <td>0.70</td>\n",
       "      <td>0.36</td>\n",
       "      <td>Burbank</td>\n",
       "      <td>True</td>\n",
       "      <td>Entire house</td>\n",
       "      <td>Entire home/apt</td>\n",
       "      <td>14</td>\n",
       "      <td>2</td>\n",
       "      <td>8</td>\n",
       "      <td>0</td>\n",
       "    </tr>\n",
       "    <tr>\n",
       "      <th>2</th>\n",
       "      <td>within an hour</td>\n",
       "      <td>1.00</td>\n",
       "      <td>1.00</td>\n",
       "      <td>Hollywood</td>\n",
       "      <td>True</td>\n",
       "      <td>Private room in apartment</td>\n",
       "      <td>Private room</td>\n",
       "      <td>366</td>\n",
       "      <td>30</td>\n",
       "      <td>26</td>\n",
       "      <td>1</td>\n",
       "    </tr>\n",
       "    <tr>\n",
       "      <th>3</th>\n",
       "      <td>within a few hours</td>\n",
       "      <td>0.93</td>\n",
       "      <td>0.57</td>\n",
       "      <td>Santa Monica</td>\n",
       "      <td>True</td>\n",
       "      <td>Private room in apartment</td>\n",
       "      <td>Private room</td>\n",
       "      <td>180</td>\n",
       "      <td>1</td>\n",
       "      <td>21</td>\n",
       "      <td>0</td>\n",
       "    </tr>\n",
       "    <tr>\n",
       "      <th>4</th>\n",
       "      <td>NaN</td>\n",
       "      <td>NaN</td>\n",
       "      <td>NaN</td>\n",
       "      <td>Bellflower</td>\n",
       "      <td>True</td>\n",
       "      <td>Entire apartment</td>\n",
       "      <td>Entire home/apt</td>\n",
       "      <td>730</td>\n",
       "      <td>30</td>\n",
       "      <td>0</td>\n",
       "      <td>0</td>\n",
       "    </tr>\n",
       "  </tbody>\n",
       "</table>\n",
       "</div>"
      ],
      "text/plain": [
       "   host_response_time  host_response_rate  host_acceptance_rate  \\\n",
       "0                 NaN                 NaN                  0.00   \n",
       "1        within a day                0.70                  0.36   \n",
       "2      within an hour                1.00                  1.00   \n",
       "3  within a few hours                0.93                  0.57   \n",
       "4                 NaN                 NaN                   NaN   \n",
       "\n",
       "  neighbourhood_cleansed  neighborhood_matched              property_type  \\\n",
       "0            Culver City                  True         Entire condominium   \n",
       "1                Burbank                  True               Entire house   \n",
       "2              Hollywood                  True  Private room in apartment   \n",
       "3           Santa Monica                  True  Private room in apartment   \n",
       "4             Bellflower                  True           Entire apartment   \n",
       "\n",
       "         room_type  maximum_nights  minimum_nights  number_of_reviews  \\\n",
       "0  Entire home/apt             730              30                  2   \n",
       "1  Entire home/apt              14               2                  8   \n",
       "2     Private room             366              30                 26   \n",
       "3     Private room             180               1                 21   \n",
       "4  Entire home/apt             730              30                  0   \n",
       "\n",
       "   number_of_reviews_l30d  \n",
       "0                       0  \n",
       "1                       0  \n",
       "2                       1  \n",
       "3                       0  \n",
       "4                       0  "
      ]
     },
     "execution_count": 46,
     "metadata": {},
     "output_type": "execute_result"
    }
   ],
   "source": [
    "data.head()"
   ]
  },
  {
   "cell_type": "code",
   "execution_count": 47,
   "metadata": {},
   "outputs": [
    {
     "data": {
      "text/plain": [
       "array(['Entire condominium', 'Entire house', 'Private room in apartment',\n",
       "       'Entire apartment', 'Private room in tiny house',\n",
       "       'Private room in guesthouse', 'Entire bungalow',\n",
       "       'Private room in house', 'Entire guesthouse',\n",
       "       'Private room in loft', 'Entire guest suite',\n",
       "       'Private room in townhouse', 'Private room in island',\n",
       "       'Entire townhouse', 'Private room in bed and breakfast',\n",
       "       'Private room in hostel', 'Room in hotel',\n",
       "       'Private room in bungalow', 'Entire villa', 'Entire cottage',\n",
       "       'Entire cabin', 'Private room in villa',\n",
       "       'Private room in farm stay', 'Entire loft', 'Shared room in house',\n",
       "       'Shared room in hostel', 'Shared room in villa', 'Camper/RV',\n",
       "       'Farm stay', 'Private room in condominium',\n",
       "       'Private room in guest suite', 'Entire place',\n",
       "       'Room in aparthotel', 'Private room in treehouse', 'Treehouse',\n",
       "       'Shared room in apartment', 'Private room',\n",
       "       'Private room in castle', 'Barn', 'Yurt', 'Boat', 'Tiny house',\n",
       "       'Dome house', 'Room in boutique hotel',\n",
       "       'Shared room in condominium', 'Entire serviced apartment',\n",
       "       'Private room in cottage', 'Private room in cabin', 'Tipi',\n",
       "       'Campsite', 'Private room in tent',\n",
       "       'Shared room in bed and breakfast', 'Shared room in guest suite',\n",
       "       'Private room in chalet', 'Earth house',\n",
       "       'Shared room in townhouse', 'Shared room in bungalow',\n",
       "       'Private room in earth house', 'Room in hostel', 'Castle',\n",
       "       'Private room in resort', 'Entire floor', 'Shared room',\n",
       "       'Private room in yurt', 'Shared room in cabin',\n",
       "       'Shared room in aparthotel', 'Private room in camper/rv',\n",
       "       'Room in serviced apartment', 'Train', 'Entire home/apt',\n",
       "       'Entire chalet', 'Private room in boat', 'Tent',\n",
       "       'Shared room in loft', 'Shared room in earth house',\n",
       "       'Shared room in guesthouse', 'Room in bed and breakfast',\n",
       "       'Private room in serviced apartment',\n",
       "       'Private room in minsu (taiwan)', 'Shared room in dorm', 'Bus',\n",
       "       'Private room in tipi', 'Shared room in dome house',\n",
       "       'Shared room in igloo', 'Private room in dome house',\n",
       "       'Private room in barn', 'Shared room in cottage', 'Cave',\n",
       "       'Entire resort', 'Private room in casa particular (cuba)',\n",
       "       'Shared room in tent', 'Lighthouse', 'Entire vacation home',\n",
       "       'Private room in hut', 'Shared room in boat',\n",
       "       'Shared room in boutique hotel', 'Shared room in tiny house',\n",
       "       'Hut', 'Private room in cave', 'Shared room in camper/rv',\n",
       "       'Shared room in serviced apartment', 'Shared room in farm stay',\n",
       "       'Houseboat', 'Private room in houseboat'], dtype=object)"
      ]
     },
     "execution_count": 47,
     "metadata": {},
     "output_type": "execute_result"
    }
   ],
   "source": [
    "data[\"property_type\"].unique()"
   ]
  },
  {
   "cell_type": "code",
   "execution_count": 48,
   "metadata": {},
   "outputs": [],
   "source": [
    "def property_cleansing(text):\n",
    "    if text.startswith(\"Private\"):\n",
    "        return \"Private room\"\n",
    "    elif text.startswith(\"Shared\"):\n",
    "        return \"Shared room\"\n",
    "    elif text.startswith(\"Entire\"):\n",
    "        return \"Entire house\"\n",
    "    elif text.startswith(\"Room\"):\n",
    "        return \"Private room\"\n",
    "    else:\n",
    "        return text"
   ]
  },
  {
   "cell_type": "code",
   "execution_count": 49,
   "metadata": {},
   "outputs": [
    {
     "name": "stderr",
     "output_type": "stream",
     "text": [
      "/opt/anaconda3/envs/jaeyoung/lib/python3.7/site-packages/ipykernel_launcher.py:1: SettingWithCopyWarning: \n",
      "A value is trying to be set on a copy of a slice from a DataFrame.\n",
      "Try using .loc[row_indexer,col_indexer] = value instead\n",
      "\n",
      "See the caveats in the documentation: https://pandas.pydata.org/pandas-docs/stable/user_guide/indexing.html#returning-a-view-versus-a-copy\n",
      "  \"\"\"Entry point for launching an IPython kernel.\n"
     ]
    }
   ],
   "source": [
    "data[\"property_type\"] = data[\"property_type\"].apply(property_cleansing)"
   ]
  },
  {
   "cell_type": "code",
   "execution_count": 50,
   "metadata": {},
   "outputs": [
    {
     "data": {
      "text/plain": [
       "array(['Entire house', 'Private room', 'Shared room', 'Camper/RV',\n",
       "       'Farm stay', 'Treehouse', 'Barn', 'Yurt', 'Boat', 'Tiny house',\n",
       "       'Dome house', 'Tipi', 'Campsite', 'Earth house', 'Castle', 'Train',\n",
       "       'Tent', 'Bus', 'Cave', 'Lighthouse', 'Hut', 'Houseboat'],\n",
       "      dtype=object)"
      ]
     },
     "execution_count": 50,
     "metadata": {},
     "output_type": "execute_result"
    }
   ],
   "source": [
    "data[\"property_type\"].unique()"
   ]
  },
  {
   "cell_type": "code",
   "execution_count": 51,
   "metadata": {},
   "outputs": [
    {
     "data": {
      "text/html": [
       "<div>\n",
       "<style scoped>\n",
       "    .dataframe tbody tr th:only-of-type {\n",
       "        vertical-align: middle;\n",
       "    }\n",
       "\n",
       "    .dataframe tbody tr th {\n",
       "        vertical-align: top;\n",
       "    }\n",
       "\n",
       "    .dataframe thead th {\n",
       "        text-align: right;\n",
       "    }\n",
       "</style>\n",
       "<table border=\"1\" class=\"dataframe\">\n",
       "  <thead>\n",
       "    <tr style=\"text-align: right;\">\n",
       "      <th></th>\n",
       "      <th>host_response_time</th>\n",
       "      <th>host_response_rate</th>\n",
       "      <th>host_acceptance_rate</th>\n",
       "      <th>neighbourhood_cleansed</th>\n",
       "      <th>neighborhood_matched</th>\n",
       "      <th>property_type</th>\n",
       "      <th>room_type</th>\n",
       "      <th>maximum_nights</th>\n",
       "      <th>minimum_nights</th>\n",
       "      <th>number_of_reviews</th>\n",
       "      <th>number_of_reviews_l30d</th>\n",
       "    </tr>\n",
       "  </thead>\n",
       "  <tbody>\n",
       "    <tr>\n",
       "      <th>0</th>\n",
       "      <td>NaN</td>\n",
       "      <td>NaN</td>\n",
       "      <td>0.00</td>\n",
       "      <td>Culver City</td>\n",
       "      <td>True</td>\n",
       "      <td>Entire house</td>\n",
       "      <td>Entire home/apt</td>\n",
       "      <td>730</td>\n",
       "      <td>30</td>\n",
       "      <td>2</td>\n",
       "      <td>0</td>\n",
       "    </tr>\n",
       "    <tr>\n",
       "      <th>1</th>\n",
       "      <td>within a day</td>\n",
       "      <td>0.70</td>\n",
       "      <td>0.36</td>\n",
       "      <td>Burbank</td>\n",
       "      <td>True</td>\n",
       "      <td>Entire house</td>\n",
       "      <td>Entire home/apt</td>\n",
       "      <td>14</td>\n",
       "      <td>2</td>\n",
       "      <td>8</td>\n",
       "      <td>0</td>\n",
       "    </tr>\n",
       "    <tr>\n",
       "      <th>2</th>\n",
       "      <td>within an hour</td>\n",
       "      <td>1.00</td>\n",
       "      <td>1.00</td>\n",
       "      <td>Hollywood</td>\n",
       "      <td>True</td>\n",
       "      <td>Private room</td>\n",
       "      <td>Private room</td>\n",
       "      <td>366</td>\n",
       "      <td>30</td>\n",
       "      <td>26</td>\n",
       "      <td>1</td>\n",
       "    </tr>\n",
       "    <tr>\n",
       "      <th>3</th>\n",
       "      <td>within a few hours</td>\n",
       "      <td>0.93</td>\n",
       "      <td>0.57</td>\n",
       "      <td>Santa Monica</td>\n",
       "      <td>True</td>\n",
       "      <td>Private room</td>\n",
       "      <td>Private room</td>\n",
       "      <td>180</td>\n",
       "      <td>1</td>\n",
       "      <td>21</td>\n",
       "      <td>0</td>\n",
       "    </tr>\n",
       "    <tr>\n",
       "      <th>4</th>\n",
       "      <td>NaN</td>\n",
       "      <td>NaN</td>\n",
       "      <td>NaN</td>\n",
       "      <td>Bellflower</td>\n",
       "      <td>True</td>\n",
       "      <td>Entire house</td>\n",
       "      <td>Entire home/apt</td>\n",
       "      <td>730</td>\n",
       "      <td>30</td>\n",
       "      <td>0</td>\n",
       "      <td>0</td>\n",
       "    </tr>\n",
       "  </tbody>\n",
       "</table>\n",
       "</div>"
      ],
      "text/plain": [
       "   host_response_time  host_response_rate  host_acceptance_rate  \\\n",
       "0                 NaN                 NaN                  0.00   \n",
       "1        within a day                0.70                  0.36   \n",
       "2      within an hour                1.00                  1.00   \n",
       "3  within a few hours                0.93                  0.57   \n",
       "4                 NaN                 NaN                   NaN   \n",
       "\n",
       "  neighbourhood_cleansed  neighborhood_matched property_type        room_type  \\\n",
       "0            Culver City                  True  Entire house  Entire home/apt   \n",
       "1                Burbank                  True  Entire house  Entire home/apt   \n",
       "2              Hollywood                  True  Private room     Private room   \n",
       "3           Santa Monica                  True  Private room     Private room   \n",
       "4             Bellflower                  True  Entire house  Entire home/apt   \n",
       "\n",
       "   maximum_nights  minimum_nights  number_of_reviews  number_of_reviews_l30d  \n",
       "0             730              30                  2                       0  \n",
       "1              14               2                  8                       0  \n",
       "2             366              30                 26                       1  \n",
       "3             180               1                 21                       0  \n",
       "4             730              30                  0                       0  "
      ]
     },
     "execution_count": 51,
     "metadata": {},
     "output_type": "execute_result"
    }
   ],
   "source": [
    "data.head()"
   ]
  },
  {
   "cell_type": "code",
   "execution_count": 52,
   "metadata": {},
   "outputs": [
    {
     "name": "stdout",
     "output_type": "stream",
     "text": [
      "<class 'pandas.core.frame.DataFrame'>\n",
      "RangeIndex: 33078 entries, 0 to 33077\n",
      "Data columns (total 11 columns):\n",
      " #   Column                  Non-Null Count  Dtype  \n",
      "---  ------                  --------------  -----  \n",
      " 0   host_response_time      23720 non-null  object \n",
      " 1   host_response_rate      23720 non-null  float64\n",
      " 2   host_acceptance_rate    26351 non-null  float64\n",
      " 3   neighbourhood_cleansed  33078 non-null  object \n",
      " 4   neighborhood_matched    33078 non-null  bool   \n",
      " 5   property_type           33078 non-null  object \n",
      " 6   room_type               33078 non-null  object \n",
      " 7   maximum_nights          33078 non-null  int64  \n",
      " 8   minimum_nights          33078 non-null  int64  \n",
      " 9   number_of_reviews       33078 non-null  int64  \n",
      " 10  number_of_reviews_l30d  33078 non-null  int64  \n",
      "dtypes: bool(1), float64(2), int64(4), object(4)\n",
      "memory usage: 2.6+ MB\n"
     ]
    }
   ],
   "source": [
    "data.info()"
   ]
  },
  {
   "cell_type": "code",
   "execution_count": 53,
   "metadata": {},
   "outputs": [
    {
     "name": "stderr",
     "output_type": "stream",
     "text": [
      "/opt/anaconda3/envs/jaeyoung/lib/python3.7/site-packages/ipykernel_launcher.py:5: SettingWithCopyWarning: \n",
      "A value is trying to be set on a copy of a slice from a DataFrame.\n",
      "Try using .loc[row_indexer,col_indexer] = value instead\n",
      "\n",
      "See the caveats in the documentation: https://pandas.pydata.org/pandas-docs/stable/user_guide/indexing.html#returning-a-view-versus-a-copy\n",
      "  \"\"\"\n"
     ]
    }
   ],
   "source": [
    "frequency_neighbor = data.groupby([\"neighbourhood_cleansed\"]).agg(count = pd.NamedAgg('neighbourhood_cleansed','count'))\n",
    "\n",
    "def frequency(x):\n",
    "    return list(frequency_neighbor.loc[x])[0]\n",
    "data[\"negiborhood_frequency\"] = data[\"neighbourhood_cleansed\"].apply(lambda x : frequency(x))\n",
    "\n",
    "data = data.fillna(-1)"
   ]
  },
  {
   "cell_type": "code",
   "execution_count": 54,
   "metadata": {},
   "outputs": [
    {
     "data": {
      "text/html": [
       "<div>\n",
       "<style scoped>\n",
       "    .dataframe tbody tr th:only-of-type {\n",
       "        vertical-align: middle;\n",
       "    }\n",
       "\n",
       "    .dataframe tbody tr th {\n",
       "        vertical-align: top;\n",
       "    }\n",
       "\n",
       "    .dataframe thead th {\n",
       "        text-align: right;\n",
       "    }\n",
       "</style>\n",
       "<table border=\"1\" class=\"dataframe\">\n",
       "  <thead>\n",
       "    <tr style=\"text-align: right;\">\n",
       "      <th></th>\n",
       "      <th>host_response_time</th>\n",
       "      <th>host_response_rate</th>\n",
       "      <th>host_acceptance_rate</th>\n",
       "      <th>neighbourhood_cleansed</th>\n",
       "      <th>neighborhood_matched</th>\n",
       "      <th>property_type</th>\n",
       "      <th>room_type</th>\n",
       "      <th>maximum_nights</th>\n",
       "      <th>minimum_nights</th>\n",
       "      <th>number_of_reviews</th>\n",
       "      <th>number_of_reviews_l30d</th>\n",
       "      <th>negiborhood_frequency</th>\n",
       "    </tr>\n",
       "  </thead>\n",
       "  <tbody>\n",
       "    <tr>\n",
       "      <th>0</th>\n",
       "      <td>-1</td>\n",
       "      <td>-1.00</td>\n",
       "      <td>0.00</td>\n",
       "      <td>Culver City</td>\n",
       "      <td>True</td>\n",
       "      <td>Entire house</td>\n",
       "      <td>Entire home/apt</td>\n",
       "      <td>730</td>\n",
       "      <td>30</td>\n",
       "      <td>2</td>\n",
       "      <td>0</td>\n",
       "      <td>307</td>\n",
       "    </tr>\n",
       "    <tr>\n",
       "      <th>1</th>\n",
       "      <td>within a day</td>\n",
       "      <td>0.70</td>\n",
       "      <td>0.36</td>\n",
       "      <td>Burbank</td>\n",
       "      <td>True</td>\n",
       "      <td>Entire house</td>\n",
       "      <td>Entire home/apt</td>\n",
       "      <td>14</td>\n",
       "      <td>2</td>\n",
       "      <td>8</td>\n",
       "      <td>0</td>\n",
       "      <td>331</td>\n",
       "    </tr>\n",
       "    <tr>\n",
       "      <th>2</th>\n",
       "      <td>within an hour</td>\n",
       "      <td>1.00</td>\n",
       "      <td>1.00</td>\n",
       "      <td>Hollywood</td>\n",
       "      <td>True</td>\n",
       "      <td>Private room</td>\n",
       "      <td>Private room</td>\n",
       "      <td>366</td>\n",
       "      <td>30</td>\n",
       "      <td>26</td>\n",
       "      <td>1</td>\n",
       "      <td>1616</td>\n",
       "    </tr>\n",
       "    <tr>\n",
       "      <th>3</th>\n",
       "      <td>within a few hours</td>\n",
       "      <td>0.93</td>\n",
       "      <td>0.57</td>\n",
       "      <td>Santa Monica</td>\n",
       "      <td>True</td>\n",
       "      <td>Private room</td>\n",
       "      <td>Private room</td>\n",
       "      <td>180</td>\n",
       "      <td>1</td>\n",
       "      <td>21</td>\n",
       "      <td>0</td>\n",
       "      <td>1184</td>\n",
       "    </tr>\n",
       "    <tr>\n",
       "      <th>4</th>\n",
       "      <td>-1</td>\n",
       "      <td>-1.00</td>\n",
       "      <td>-1.00</td>\n",
       "      <td>Bellflower</td>\n",
       "      <td>True</td>\n",
       "      <td>Entire house</td>\n",
       "      <td>Entire home/apt</td>\n",
       "      <td>730</td>\n",
       "      <td>30</td>\n",
       "      <td>0</td>\n",
       "      <td>0</td>\n",
       "      <td>29</td>\n",
       "    </tr>\n",
       "    <tr>\n",
       "      <th>...</th>\n",
       "      <td>...</td>\n",
       "      <td>...</td>\n",
       "      <td>...</td>\n",
       "      <td>...</td>\n",
       "      <td>...</td>\n",
       "      <td>...</td>\n",
       "      <td>...</td>\n",
       "      <td>...</td>\n",
       "      <td>...</td>\n",
       "      <td>...</td>\n",
       "      <td>...</td>\n",
       "      <td>...</td>\n",
       "    </tr>\n",
       "    <tr>\n",
       "      <th>33073</th>\n",
       "      <td>-1</td>\n",
       "      <td>-1.00</td>\n",
       "      <td>-1.00</td>\n",
       "      <td>Koreatown</td>\n",
       "      <td>False</td>\n",
       "      <td>Entire house</td>\n",
       "      <td>Entire home/apt</td>\n",
       "      <td>30</td>\n",
       "      <td>3</td>\n",
       "      <td>0</td>\n",
       "      <td>0</td>\n",
       "      <td>518</td>\n",
       "    </tr>\n",
       "    <tr>\n",
       "      <th>33074</th>\n",
       "      <td>within an hour</td>\n",
       "      <td>1.00</td>\n",
       "      <td>0.93</td>\n",
       "      <td>Sierra Madre</td>\n",
       "      <td>False</td>\n",
       "      <td>Entire house</td>\n",
       "      <td>Entire home/apt</td>\n",
       "      <td>1000</td>\n",
       "      <td>14</td>\n",
       "      <td>0</td>\n",
       "      <td>0</td>\n",
       "      <td>25</td>\n",
       "    </tr>\n",
       "    <tr>\n",
       "      <th>33075</th>\n",
       "      <td>within an hour</td>\n",
       "      <td>1.00</td>\n",
       "      <td>1.00</td>\n",
       "      <td>East Hollywood</td>\n",
       "      <td>False</td>\n",
       "      <td>Private room</td>\n",
       "      <td>Private room</td>\n",
       "      <td>1125</td>\n",
       "      <td>31</td>\n",
       "      <td>0</td>\n",
       "      <td>0</td>\n",
       "      <td>526</td>\n",
       "    </tr>\n",
       "    <tr>\n",
       "      <th>33076</th>\n",
       "      <td>-1</td>\n",
       "      <td>-1.00</td>\n",
       "      <td>-1.00</td>\n",
       "      <td>Glendale</td>\n",
       "      <td>False</td>\n",
       "      <td>Private room</td>\n",
       "      <td>Private room</td>\n",
       "      <td>1125</td>\n",
       "      <td>20</td>\n",
       "      <td>0</td>\n",
       "      <td>0</td>\n",
       "      <td>556</td>\n",
       "    </tr>\n",
       "    <tr>\n",
       "      <th>33077</th>\n",
       "      <td>within an hour</td>\n",
       "      <td>1.00</td>\n",
       "      <td>0.98</td>\n",
       "      <td>Koreatown</td>\n",
       "      <td>False</td>\n",
       "      <td>Private room</td>\n",
       "      <td>Private room</td>\n",
       "      <td>1125</td>\n",
       "      <td>1</td>\n",
       "      <td>0</td>\n",
       "      <td>0</td>\n",
       "      <td>518</td>\n",
       "    </tr>\n",
       "  </tbody>\n",
       "</table>\n",
       "<p>33078 rows × 12 columns</p>\n",
       "</div>"
      ],
      "text/plain": [
       "       host_response_time  host_response_rate  host_acceptance_rate  \\\n",
       "0                      -1               -1.00                  0.00   \n",
       "1            within a day                0.70                  0.36   \n",
       "2          within an hour                1.00                  1.00   \n",
       "3      within a few hours                0.93                  0.57   \n",
       "4                      -1               -1.00                 -1.00   \n",
       "...                   ...                 ...                   ...   \n",
       "33073                  -1               -1.00                 -1.00   \n",
       "33074      within an hour                1.00                  0.93   \n",
       "33075      within an hour                1.00                  1.00   \n",
       "33076                  -1               -1.00                 -1.00   \n",
       "33077      within an hour                1.00                  0.98   \n",
       "\n",
       "      neighbourhood_cleansed  neighborhood_matched property_type  \\\n",
       "0                Culver City                  True  Entire house   \n",
       "1                    Burbank                  True  Entire house   \n",
       "2                  Hollywood                  True  Private room   \n",
       "3               Santa Monica                  True  Private room   \n",
       "4                 Bellflower                  True  Entire house   \n",
       "...                      ...                   ...           ...   \n",
       "33073              Koreatown                 False  Entire house   \n",
       "33074           Sierra Madre                 False  Entire house   \n",
       "33075         East Hollywood                 False  Private room   \n",
       "33076               Glendale                 False  Private room   \n",
       "33077              Koreatown                 False  Private room   \n",
       "\n",
       "             room_type  maximum_nights  minimum_nights  number_of_reviews  \\\n",
       "0      Entire home/apt             730              30                  2   \n",
       "1      Entire home/apt              14               2                  8   \n",
       "2         Private room             366              30                 26   \n",
       "3         Private room             180               1                 21   \n",
       "4      Entire home/apt             730              30                  0   \n",
       "...                ...             ...             ...                ...   \n",
       "33073  Entire home/apt              30               3                  0   \n",
       "33074  Entire home/apt            1000              14                  0   \n",
       "33075     Private room            1125              31                  0   \n",
       "33076     Private room            1125              20                  0   \n",
       "33077     Private room            1125               1                  0   \n",
       "\n",
       "       number_of_reviews_l30d  negiborhood_frequency  \n",
       "0                           0                    307  \n",
       "1                           0                    331  \n",
       "2                           1                   1616  \n",
       "3                           0                   1184  \n",
       "4                           0                     29  \n",
       "...                       ...                    ...  \n",
       "33073                       0                    518  \n",
       "33074                       0                     25  \n",
       "33075                       0                    526  \n",
       "33076                       0                    556  \n",
       "33077                       0                    518  \n",
       "\n",
       "[33078 rows x 12 columns]"
      ]
     },
     "execution_count": 54,
     "metadata": {},
     "output_type": "execute_result"
    }
   ],
   "source": [
    "data"
   ]
  },
  {
   "cell_type": "code",
   "execution_count": 55,
   "metadata": {},
   "outputs": [
    {
     "data": {
      "text/plain": [
       "array([-1, 'within a day', 'within an hour', 'within a few hours',\n",
       "       'a few days or more'], dtype=object)"
      ]
     },
     "execution_count": 55,
     "metadata": {},
     "output_type": "execute_result"
    }
   ],
   "source": [
    "data[\"host_response_time\"].unique()"
   ]
  },
  {
   "cell_type": "code",
   "execution_count": 56,
   "metadata": {},
   "outputs": [],
   "source": [
    "#  within an hour 1, within a few hours 2, within a day 3, a few days or more 4"
   ]
  },
  {
   "cell_type": "code",
   "execution_count": 57,
   "metadata": {},
   "outputs": [],
   "source": [
    "def host_response_cleansing(text):\n",
    "    if type(text) == int:\n",
    "        return text\n",
    "    elif text.endswith(\"day\"):\n",
    "        return 3\n",
    "    elif text.startswith(\"a\"):\n",
    "        return 4\n",
    "    elif text.endswith(\"hour\"):\n",
    "        return 1\n",
    "    elif text.endswith(\"hours\"):\n",
    "        return 2\n",
    "    else:\n",
    "        return text"
   ]
  },
  {
   "cell_type": "code",
   "execution_count": 58,
   "metadata": {},
   "outputs": [],
   "source": [
    "data[\"host_response_time\"] = data[\"host_response_time\"].apply(host_response_cleansing)"
   ]
  },
  {
   "cell_type": "code",
   "execution_count": 59,
   "metadata": {},
   "outputs": [
    {
     "data": {
      "text/html": [
       "<div>\n",
       "<style scoped>\n",
       "    .dataframe tbody tr th:only-of-type {\n",
       "        vertical-align: middle;\n",
       "    }\n",
       "\n",
       "    .dataframe tbody tr th {\n",
       "        vertical-align: top;\n",
       "    }\n",
       "\n",
       "    .dataframe thead th {\n",
       "        text-align: right;\n",
       "    }\n",
       "</style>\n",
       "<table border=\"1\" class=\"dataframe\">\n",
       "  <thead>\n",
       "    <tr style=\"text-align: right;\">\n",
       "      <th></th>\n",
       "      <th>host_response_time</th>\n",
       "      <th>host_response_rate</th>\n",
       "      <th>host_acceptance_rate</th>\n",
       "      <th>neighbourhood_cleansed</th>\n",
       "      <th>neighborhood_matched</th>\n",
       "      <th>property_type</th>\n",
       "      <th>room_type</th>\n",
       "      <th>maximum_nights</th>\n",
       "      <th>minimum_nights</th>\n",
       "      <th>number_of_reviews</th>\n",
       "      <th>number_of_reviews_l30d</th>\n",
       "      <th>negiborhood_frequency</th>\n",
       "    </tr>\n",
       "  </thead>\n",
       "  <tbody>\n",
       "    <tr>\n",
       "      <th>0</th>\n",
       "      <td>-1</td>\n",
       "      <td>-1.00</td>\n",
       "      <td>0.00</td>\n",
       "      <td>Culver City</td>\n",
       "      <td>True</td>\n",
       "      <td>Entire house</td>\n",
       "      <td>Entire home/apt</td>\n",
       "      <td>730</td>\n",
       "      <td>30</td>\n",
       "      <td>2</td>\n",
       "      <td>0</td>\n",
       "      <td>307</td>\n",
       "    </tr>\n",
       "    <tr>\n",
       "      <th>1</th>\n",
       "      <td>3</td>\n",
       "      <td>0.70</td>\n",
       "      <td>0.36</td>\n",
       "      <td>Burbank</td>\n",
       "      <td>True</td>\n",
       "      <td>Entire house</td>\n",
       "      <td>Entire home/apt</td>\n",
       "      <td>14</td>\n",
       "      <td>2</td>\n",
       "      <td>8</td>\n",
       "      <td>0</td>\n",
       "      <td>331</td>\n",
       "    </tr>\n",
       "    <tr>\n",
       "      <th>2</th>\n",
       "      <td>1</td>\n",
       "      <td>1.00</td>\n",
       "      <td>1.00</td>\n",
       "      <td>Hollywood</td>\n",
       "      <td>True</td>\n",
       "      <td>Private room</td>\n",
       "      <td>Private room</td>\n",
       "      <td>366</td>\n",
       "      <td>30</td>\n",
       "      <td>26</td>\n",
       "      <td>1</td>\n",
       "      <td>1616</td>\n",
       "    </tr>\n",
       "    <tr>\n",
       "      <th>3</th>\n",
       "      <td>2</td>\n",
       "      <td>0.93</td>\n",
       "      <td>0.57</td>\n",
       "      <td>Santa Monica</td>\n",
       "      <td>True</td>\n",
       "      <td>Private room</td>\n",
       "      <td>Private room</td>\n",
       "      <td>180</td>\n",
       "      <td>1</td>\n",
       "      <td>21</td>\n",
       "      <td>0</td>\n",
       "      <td>1184</td>\n",
       "    </tr>\n",
       "    <tr>\n",
       "      <th>4</th>\n",
       "      <td>-1</td>\n",
       "      <td>-1.00</td>\n",
       "      <td>-1.00</td>\n",
       "      <td>Bellflower</td>\n",
       "      <td>True</td>\n",
       "      <td>Entire house</td>\n",
       "      <td>Entire home/apt</td>\n",
       "      <td>730</td>\n",
       "      <td>30</td>\n",
       "      <td>0</td>\n",
       "      <td>0</td>\n",
       "      <td>29</td>\n",
       "    </tr>\n",
       "    <tr>\n",
       "      <th>...</th>\n",
       "      <td>...</td>\n",
       "      <td>...</td>\n",
       "      <td>...</td>\n",
       "      <td>...</td>\n",
       "      <td>...</td>\n",
       "      <td>...</td>\n",
       "      <td>...</td>\n",
       "      <td>...</td>\n",
       "      <td>...</td>\n",
       "      <td>...</td>\n",
       "      <td>...</td>\n",
       "      <td>...</td>\n",
       "    </tr>\n",
       "    <tr>\n",
       "      <th>33073</th>\n",
       "      <td>-1</td>\n",
       "      <td>-1.00</td>\n",
       "      <td>-1.00</td>\n",
       "      <td>Koreatown</td>\n",
       "      <td>False</td>\n",
       "      <td>Entire house</td>\n",
       "      <td>Entire home/apt</td>\n",
       "      <td>30</td>\n",
       "      <td>3</td>\n",
       "      <td>0</td>\n",
       "      <td>0</td>\n",
       "      <td>518</td>\n",
       "    </tr>\n",
       "    <tr>\n",
       "      <th>33074</th>\n",
       "      <td>1</td>\n",
       "      <td>1.00</td>\n",
       "      <td>0.93</td>\n",
       "      <td>Sierra Madre</td>\n",
       "      <td>False</td>\n",
       "      <td>Entire house</td>\n",
       "      <td>Entire home/apt</td>\n",
       "      <td>1000</td>\n",
       "      <td>14</td>\n",
       "      <td>0</td>\n",
       "      <td>0</td>\n",
       "      <td>25</td>\n",
       "    </tr>\n",
       "    <tr>\n",
       "      <th>33075</th>\n",
       "      <td>1</td>\n",
       "      <td>1.00</td>\n",
       "      <td>1.00</td>\n",
       "      <td>East Hollywood</td>\n",
       "      <td>False</td>\n",
       "      <td>Private room</td>\n",
       "      <td>Private room</td>\n",
       "      <td>1125</td>\n",
       "      <td>31</td>\n",
       "      <td>0</td>\n",
       "      <td>0</td>\n",
       "      <td>526</td>\n",
       "    </tr>\n",
       "    <tr>\n",
       "      <th>33076</th>\n",
       "      <td>-1</td>\n",
       "      <td>-1.00</td>\n",
       "      <td>-1.00</td>\n",
       "      <td>Glendale</td>\n",
       "      <td>False</td>\n",
       "      <td>Private room</td>\n",
       "      <td>Private room</td>\n",
       "      <td>1125</td>\n",
       "      <td>20</td>\n",
       "      <td>0</td>\n",
       "      <td>0</td>\n",
       "      <td>556</td>\n",
       "    </tr>\n",
       "    <tr>\n",
       "      <th>33077</th>\n",
       "      <td>1</td>\n",
       "      <td>1.00</td>\n",
       "      <td>0.98</td>\n",
       "      <td>Koreatown</td>\n",
       "      <td>False</td>\n",
       "      <td>Private room</td>\n",
       "      <td>Private room</td>\n",
       "      <td>1125</td>\n",
       "      <td>1</td>\n",
       "      <td>0</td>\n",
       "      <td>0</td>\n",
       "      <td>518</td>\n",
       "    </tr>\n",
       "  </tbody>\n",
       "</table>\n",
       "<p>33078 rows × 12 columns</p>\n",
       "</div>"
      ],
      "text/plain": [
       "       host_response_time  host_response_rate  host_acceptance_rate  \\\n",
       "0                      -1               -1.00                  0.00   \n",
       "1                       3                0.70                  0.36   \n",
       "2                       1                1.00                  1.00   \n",
       "3                       2                0.93                  0.57   \n",
       "4                      -1               -1.00                 -1.00   \n",
       "...                   ...                 ...                   ...   \n",
       "33073                  -1               -1.00                 -1.00   \n",
       "33074                   1                1.00                  0.93   \n",
       "33075                   1                1.00                  1.00   \n",
       "33076                  -1               -1.00                 -1.00   \n",
       "33077                   1                1.00                  0.98   \n",
       "\n",
       "      neighbourhood_cleansed  neighborhood_matched property_type  \\\n",
       "0                Culver City                  True  Entire house   \n",
       "1                    Burbank                  True  Entire house   \n",
       "2                  Hollywood                  True  Private room   \n",
       "3               Santa Monica                  True  Private room   \n",
       "4                 Bellflower                  True  Entire house   \n",
       "...                      ...                   ...           ...   \n",
       "33073              Koreatown                 False  Entire house   \n",
       "33074           Sierra Madre                 False  Entire house   \n",
       "33075         East Hollywood                 False  Private room   \n",
       "33076               Glendale                 False  Private room   \n",
       "33077              Koreatown                 False  Private room   \n",
       "\n",
       "             room_type  maximum_nights  minimum_nights  number_of_reviews  \\\n",
       "0      Entire home/apt             730              30                  2   \n",
       "1      Entire home/apt              14               2                  8   \n",
       "2         Private room             366              30                 26   \n",
       "3         Private room             180               1                 21   \n",
       "4      Entire home/apt             730              30                  0   \n",
       "...                ...             ...             ...                ...   \n",
       "33073  Entire home/apt              30               3                  0   \n",
       "33074  Entire home/apt            1000              14                  0   \n",
       "33075     Private room            1125              31                  0   \n",
       "33076     Private room            1125              20                  0   \n",
       "33077     Private room            1125               1                  0   \n",
       "\n",
       "       number_of_reviews_l30d  negiborhood_frequency  \n",
       "0                           0                    307  \n",
       "1                           0                    331  \n",
       "2                           1                   1616  \n",
       "3                           0                   1184  \n",
       "4                           0                     29  \n",
       "...                       ...                    ...  \n",
       "33073                       0                    518  \n",
       "33074                       0                     25  \n",
       "33075                       0                    526  \n",
       "33076                       0                    556  \n",
       "33077                       0                    518  \n",
       "\n",
       "[33078 rows x 12 columns]"
      ]
     },
     "execution_count": 59,
     "metadata": {},
     "output_type": "execute_result"
    }
   ],
   "source": [
    "data"
   ]
  },
  {
   "cell_type": "code",
   "execution_count": 60,
   "metadata": {},
   "outputs": [
    {
     "data": {
      "text/plain": [
       "array(['Entire house', 'Private room', 'Shared room', 'Camper/RV',\n",
       "       'Farm stay', 'Treehouse', 'Barn', 'Yurt', 'Boat', 'Tiny house',\n",
       "       'Dome house', 'Tipi', 'Campsite', 'Earth house', 'Castle', 'Train',\n",
       "       'Tent', 'Bus', 'Cave', 'Lighthouse', 'Hut', 'Houseboat'],\n",
       "      dtype=object)"
      ]
     },
     "execution_count": 60,
     "metadata": {},
     "output_type": "execute_result"
    }
   ],
   "source": [
    "data[\"property_type\"].unique()"
   ]
  },
  {
   "cell_type": "code",
   "execution_count": 61,
   "metadata": {},
   "outputs": [],
   "source": [
    "prop_type_dict = {'Entire house': 1, 'Private room': 2, 'Shared room':3, 'Camper/RV':4,\n",
    "       'Farm stay': 5, 'Treehouse': 6, 'Barn': 7, 'Yurt': 8, 'Boat': 9, 'Tiny house':10,\n",
    "       'Dome house':11, 'Tipi':12, 'Campsite':13, 'Earth house':14, 'Castle':15, 'Train':16,\n",
    "       'Tent':17, 'Bus':18, 'Cave':19, 'Lighthouse':20, 'Hut':21, 'Houseboat':22}"
   ]
  },
  {
   "cell_type": "code",
   "execution_count": 62,
   "metadata": {},
   "outputs": [],
   "source": [
    "data[\"property_type\"] = data[\"property_type\"].replace(prop_type_dict)"
   ]
  },
  {
   "cell_type": "code",
   "execution_count": 63,
   "metadata": {},
   "outputs": [
    {
     "data": {
      "text/plain": [
       "array([ 1,  2,  3,  4,  5,  6,  7,  8,  9, 10, 11, 12, 13, 14, 15, 16, 17,\n",
       "       18, 19, 20, 21, 22])"
      ]
     },
     "execution_count": 63,
     "metadata": {},
     "output_type": "execute_result"
    }
   ],
   "source": [
    "data[\"property_type\"].unique()"
   ]
  },
  {
   "cell_type": "code",
   "execution_count": 64,
   "metadata": {},
   "outputs": [
    {
     "data": {
      "text/plain": [
       "array(['Entire home/apt', 'Private room', 'Shared room', 'Hotel room'],\n",
       "      dtype=object)"
      ]
     },
     "execution_count": 64,
     "metadata": {},
     "output_type": "execute_result"
    }
   ],
   "source": [
    "data[\"room_type\"].unique()"
   ]
  },
  {
   "cell_type": "code",
   "execution_count": 65,
   "metadata": {},
   "outputs": [],
   "source": [
    "room_type_dict = {'Entire home/apt':1, 'Private room':2, 'Shared room':3, 'Hotel room':4}"
   ]
  },
  {
   "cell_type": "code",
   "execution_count": 66,
   "metadata": {},
   "outputs": [],
   "source": [
    "data[\"room_type\"] = data[\"room_type\"].replace(room_type_dict)"
   ]
  },
  {
   "cell_type": "code",
   "execution_count": 67,
   "metadata": {},
   "outputs": [
    {
     "data": {
      "text/html": [
       "<div>\n",
       "<style scoped>\n",
       "    .dataframe tbody tr th:only-of-type {\n",
       "        vertical-align: middle;\n",
       "    }\n",
       "\n",
       "    .dataframe tbody tr th {\n",
       "        vertical-align: top;\n",
       "    }\n",
       "\n",
       "    .dataframe thead th {\n",
       "        text-align: right;\n",
       "    }\n",
       "</style>\n",
       "<table border=\"1\" class=\"dataframe\">\n",
       "  <thead>\n",
       "    <tr style=\"text-align: right;\">\n",
       "      <th></th>\n",
       "      <th>host_response_time</th>\n",
       "      <th>host_response_rate</th>\n",
       "      <th>host_acceptance_rate</th>\n",
       "      <th>neighbourhood_cleansed</th>\n",
       "      <th>neighborhood_matched</th>\n",
       "      <th>property_type</th>\n",
       "      <th>room_type</th>\n",
       "      <th>maximum_nights</th>\n",
       "      <th>minimum_nights</th>\n",
       "      <th>number_of_reviews</th>\n",
       "      <th>number_of_reviews_l30d</th>\n",
       "      <th>negiborhood_frequency</th>\n",
       "    </tr>\n",
       "  </thead>\n",
       "  <tbody>\n",
       "    <tr>\n",
       "      <th>0</th>\n",
       "      <td>-1</td>\n",
       "      <td>-1.00</td>\n",
       "      <td>0.00</td>\n",
       "      <td>Culver City</td>\n",
       "      <td>True</td>\n",
       "      <td>1</td>\n",
       "      <td>1</td>\n",
       "      <td>730</td>\n",
       "      <td>30</td>\n",
       "      <td>2</td>\n",
       "      <td>0</td>\n",
       "      <td>307</td>\n",
       "    </tr>\n",
       "    <tr>\n",
       "      <th>1</th>\n",
       "      <td>3</td>\n",
       "      <td>0.70</td>\n",
       "      <td>0.36</td>\n",
       "      <td>Burbank</td>\n",
       "      <td>True</td>\n",
       "      <td>1</td>\n",
       "      <td>1</td>\n",
       "      <td>14</td>\n",
       "      <td>2</td>\n",
       "      <td>8</td>\n",
       "      <td>0</td>\n",
       "      <td>331</td>\n",
       "    </tr>\n",
       "    <tr>\n",
       "      <th>2</th>\n",
       "      <td>1</td>\n",
       "      <td>1.00</td>\n",
       "      <td>1.00</td>\n",
       "      <td>Hollywood</td>\n",
       "      <td>True</td>\n",
       "      <td>2</td>\n",
       "      <td>2</td>\n",
       "      <td>366</td>\n",
       "      <td>30</td>\n",
       "      <td>26</td>\n",
       "      <td>1</td>\n",
       "      <td>1616</td>\n",
       "    </tr>\n",
       "    <tr>\n",
       "      <th>3</th>\n",
       "      <td>2</td>\n",
       "      <td>0.93</td>\n",
       "      <td>0.57</td>\n",
       "      <td>Santa Monica</td>\n",
       "      <td>True</td>\n",
       "      <td>2</td>\n",
       "      <td>2</td>\n",
       "      <td>180</td>\n",
       "      <td>1</td>\n",
       "      <td>21</td>\n",
       "      <td>0</td>\n",
       "      <td>1184</td>\n",
       "    </tr>\n",
       "    <tr>\n",
       "      <th>4</th>\n",
       "      <td>-1</td>\n",
       "      <td>-1.00</td>\n",
       "      <td>-1.00</td>\n",
       "      <td>Bellflower</td>\n",
       "      <td>True</td>\n",
       "      <td>1</td>\n",
       "      <td>1</td>\n",
       "      <td>730</td>\n",
       "      <td>30</td>\n",
       "      <td>0</td>\n",
       "      <td>0</td>\n",
       "      <td>29</td>\n",
       "    </tr>\n",
       "    <tr>\n",
       "      <th>...</th>\n",
       "      <td>...</td>\n",
       "      <td>...</td>\n",
       "      <td>...</td>\n",
       "      <td>...</td>\n",
       "      <td>...</td>\n",
       "      <td>...</td>\n",
       "      <td>...</td>\n",
       "      <td>...</td>\n",
       "      <td>...</td>\n",
       "      <td>...</td>\n",
       "      <td>...</td>\n",
       "      <td>...</td>\n",
       "    </tr>\n",
       "    <tr>\n",
       "      <th>33073</th>\n",
       "      <td>-1</td>\n",
       "      <td>-1.00</td>\n",
       "      <td>-1.00</td>\n",
       "      <td>Koreatown</td>\n",
       "      <td>False</td>\n",
       "      <td>1</td>\n",
       "      <td>1</td>\n",
       "      <td>30</td>\n",
       "      <td>3</td>\n",
       "      <td>0</td>\n",
       "      <td>0</td>\n",
       "      <td>518</td>\n",
       "    </tr>\n",
       "    <tr>\n",
       "      <th>33074</th>\n",
       "      <td>1</td>\n",
       "      <td>1.00</td>\n",
       "      <td>0.93</td>\n",
       "      <td>Sierra Madre</td>\n",
       "      <td>False</td>\n",
       "      <td>1</td>\n",
       "      <td>1</td>\n",
       "      <td>1000</td>\n",
       "      <td>14</td>\n",
       "      <td>0</td>\n",
       "      <td>0</td>\n",
       "      <td>25</td>\n",
       "    </tr>\n",
       "    <tr>\n",
       "      <th>33075</th>\n",
       "      <td>1</td>\n",
       "      <td>1.00</td>\n",
       "      <td>1.00</td>\n",
       "      <td>East Hollywood</td>\n",
       "      <td>False</td>\n",
       "      <td>2</td>\n",
       "      <td>2</td>\n",
       "      <td>1125</td>\n",
       "      <td>31</td>\n",
       "      <td>0</td>\n",
       "      <td>0</td>\n",
       "      <td>526</td>\n",
       "    </tr>\n",
       "    <tr>\n",
       "      <th>33076</th>\n",
       "      <td>-1</td>\n",
       "      <td>-1.00</td>\n",
       "      <td>-1.00</td>\n",
       "      <td>Glendale</td>\n",
       "      <td>False</td>\n",
       "      <td>2</td>\n",
       "      <td>2</td>\n",
       "      <td>1125</td>\n",
       "      <td>20</td>\n",
       "      <td>0</td>\n",
       "      <td>0</td>\n",
       "      <td>556</td>\n",
       "    </tr>\n",
       "    <tr>\n",
       "      <th>33077</th>\n",
       "      <td>1</td>\n",
       "      <td>1.00</td>\n",
       "      <td>0.98</td>\n",
       "      <td>Koreatown</td>\n",
       "      <td>False</td>\n",
       "      <td>2</td>\n",
       "      <td>2</td>\n",
       "      <td>1125</td>\n",
       "      <td>1</td>\n",
       "      <td>0</td>\n",
       "      <td>0</td>\n",
       "      <td>518</td>\n",
       "    </tr>\n",
       "  </tbody>\n",
       "</table>\n",
       "<p>33078 rows × 12 columns</p>\n",
       "</div>"
      ],
      "text/plain": [
       "       host_response_time  host_response_rate  host_acceptance_rate  \\\n",
       "0                      -1               -1.00                  0.00   \n",
       "1                       3                0.70                  0.36   \n",
       "2                       1                1.00                  1.00   \n",
       "3                       2                0.93                  0.57   \n",
       "4                      -1               -1.00                 -1.00   \n",
       "...                   ...                 ...                   ...   \n",
       "33073                  -1               -1.00                 -1.00   \n",
       "33074                   1                1.00                  0.93   \n",
       "33075                   1                1.00                  1.00   \n",
       "33076                  -1               -1.00                 -1.00   \n",
       "33077                   1                1.00                  0.98   \n",
       "\n",
       "      neighbourhood_cleansed  neighborhood_matched  property_type  room_type  \\\n",
       "0                Culver City                  True              1          1   \n",
       "1                    Burbank                  True              1          1   \n",
       "2                  Hollywood                  True              2          2   \n",
       "3               Santa Monica                  True              2          2   \n",
       "4                 Bellflower                  True              1          1   \n",
       "...                      ...                   ...            ...        ...   \n",
       "33073              Koreatown                 False              1          1   \n",
       "33074           Sierra Madre                 False              1          1   \n",
       "33075         East Hollywood                 False              2          2   \n",
       "33076               Glendale                 False              2          2   \n",
       "33077              Koreatown                 False              2          2   \n",
       "\n",
       "       maximum_nights  minimum_nights  number_of_reviews  \\\n",
       "0                 730              30                  2   \n",
       "1                  14               2                  8   \n",
       "2                 366              30                 26   \n",
       "3                 180               1                 21   \n",
       "4                 730              30                  0   \n",
       "...               ...             ...                ...   \n",
       "33073              30               3                  0   \n",
       "33074            1000              14                  0   \n",
       "33075            1125              31                  0   \n",
       "33076            1125              20                  0   \n",
       "33077            1125               1                  0   \n",
       "\n",
       "       number_of_reviews_l30d  negiborhood_frequency  \n",
       "0                           0                    307  \n",
       "1                           0                    331  \n",
       "2                           1                   1616  \n",
       "3                           0                   1184  \n",
       "4                           0                     29  \n",
       "...                       ...                    ...  \n",
       "33073                       0                    518  \n",
       "33074                       0                     25  \n",
       "33075                       0                    526  \n",
       "33076                       0                    556  \n",
       "33077                       0                    518  \n",
       "\n",
       "[33078 rows x 12 columns]"
      ]
     },
     "execution_count": 67,
     "metadata": {},
     "output_type": "execute_result"
    }
   ],
   "source": [
    "data"
   ]
  },
  {
   "cell_type": "code",
   "execution_count": null,
   "metadata": {},
   "outputs": [],
   "source": []
  },
  {
   "cell_type": "code",
   "execution_count": 68,
   "metadata": {},
   "outputs": [],
   "source": [
    "data.to_csv(\"../data/intermediate_output_Kevin.csv\", header = True)"
   ]
  },
  {
   "cell_type": "code",
   "execution_count": null,
   "metadata": {},
   "outputs": [],
   "source": []
  }
 ],
 "metadata": {
  "kernelspec": {
   "display_name": "Python 3",
   "language": "python",
   "name": "python3"
  },
  "language_info": {
   "codemirror_mode": {
    "name": "ipython",
    "version": 3
   },
   "file_extension": ".py",
   "mimetype": "text/x-python",
   "name": "python",
   "nbconvert_exporter": "python",
   "pygments_lexer": "ipython3",
   "version": "3.7.7"
  }
 },
 "nbformat": 4,
 "nbformat_minor": 2
}
